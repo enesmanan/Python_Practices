{
 "cells": [
  {
   "cell_type": "markdown",
   "id": "8fd0b436-3630-483b-b47f-956f5eef069e",
   "metadata": {},
   "source": [
    "# ALGORİTMA ÖRNEKLERİ\n",
    "Kodlab yayinlarinin algoritma ve programlama mantıgı isimli kitabindaki algoritma orneklerinin python dilinde yazilmiş halleri."
   ]
  },
  {
   "cell_type": "markdown",
   "id": "1473883d-6f6c-4869-a7b2-9a78c37143c2",
   "metadata": {},
   "source": [
    "## ÖZEL UYGULAMALAR"
   ]
  },
  {
   "cell_type": "markdown",
   "id": "1c00bf5f-9185-4307-b756-e58201de253c",
   "metadata": {},
   "source": [
    "### CULLEN SAYI FORMU\n",
    "#### CULLEN SAYI NEDİR?\n",
    "Ünlü matematikçi Cullen tarafından ortaya konmuş ve günümüzde halen kanıtlanmaya çalışan bir teorem ve sayı formudur. Sayı formları, aslında sayıların başka bir şekilde yazılışlarına verilen genel bir addır.\n",
    "\n",
    "Cullen sayılar yandaki formda yazılabilen sayılardır.  --->       $(n.2^n)+1$\n",
    "                      \n",
    "Herhangi bir sayı için yukarıdaki form ile bir Cullen sayısı elde edilebilir. Bunun yanısıra sonuç bir asal sayıda olabilir. Böyle sayılara ise Cullen Asal Sayısı denir. Bilim dünyasında asıl kanıtlanmak istenen şeyde hesaplanabilecek en büyük Cullen Asal Sayısı'dır."
   ]
  },
  {
   "cell_type": "markdown",
   "id": "83a4594d-c7e4-430b-bf92-884bb0559163",
   "metadata": {},
   "source": [
    "Problem açıklaması: Bu örnekte 1 ile 20 arasındaki sayılar için hesaplanacak Cullen sayıları ekrana yazdırılacaktır. Aynı zamanda bu Cullen sayısı bir asal sayı(Cullen Asal Sayısı) ise ekrana asal sayı olduğuda belirtilecektir."
   ]
  },
  {
   "cell_type": "code",
   "execution_count": 4,
   "id": "015039fa-e0f0-4f0c-946b-aaada9f32160",
   "metadata": {},
   "outputs": [
    {
     "name": "stdout",
     "output_type": "stream",
     "text": [
      "n =  1 3.0\n",
      "\t\tASAL\n",
      "n =  2 9.0\n",
      "n =  3 25.0\n",
      "n =  4 65.0\n",
      "n =  5 161.0\n",
      "n =  6 385.0\n",
      "n =  7 897.0\n",
      "n =  8 2049.0\n",
      "n =  9 4609.0\n",
      "n =  10 10241.0\n",
      "n =  11 22529.0\n",
      "n =  12 49153.0\n",
      "n =  13 106497.0\n",
      "n =  14 229377.0\n"
     ]
    }
   ],
   "source": [
    "import math\n",
    "\n",
    "for n in range(1,15):\n",
    "    cullen = n*math.pow(2,n) + 1\n",
    "    print(\"n = \", n, cullen)\n",
    "    bolen = 0\n",
    "    cullen = int(cullen)\n",
    "    \n",
    "    for i in range(1, cullen):\n",
    "        if(cullen %i == 0):\n",
    "            bolen = bolen + 1\n",
    "            \n",
    "    if(bolen == 1):\n",
    "        print(\"\\t\\tASAL\")\n"
   ]
  },
  {
   "cell_type": "markdown",
   "id": "3e71a29e-1789-47a1-99b0-e7168f046005",
   "metadata": {},
   "source": [
    "### FERMAT SAYI FORMU\n",
    "#### FERMAT SAYI NEDİR?\n",
    "17.yüzyılda yaşamış Pierre de Fermat adlı ünlü matematikçi tarafından ortaya atılmış bir formdur. 0 ve 0'dan büyük tüm sayılar için uygulanmaya çalışılan bu form sonucunda çıkan sayılara Fermat Sayılar nedir. Hipoteze göre bu formun sonucunda çıkacak olan tüm sayılar bir asal sayıdır.\n",
    "\n",
    "Ancak n=5 değeri için elde edilen Fermat sayısı bir asal sayı değildir. Günümüz şartlarında en son n=11 değeri için Fermat sayısı hesaplanmıştır. Nitekim n>11 değerleri için aşırı büyük sayılar elde edildiği için bu sayıların asallık kontrolleri henüz yapılamamıştır.\n",
    "\n",
    "Fermat sayılar, yandaki formda yazılabilen sayılardır. --->       $2^{2n}+1$\n",
    "\n",
    "Problem açıklaması: Yukarıda verilen form ile bir Fermat sayısının hesaplanması mümkündür. Ancak girilen n değerine göre elde edilen sonuçlar aşırı büyük olduğu ve programlanmada bu değerleri taşıyabilecek veri tipleri olmadığı için bu örnekte 0 ile 4 arasında toplamda 5 adet Fermat sayısı hesaplanıp ekrana yazdırılacaktır."
   ]
  },
  {
   "cell_type": "code",
   "execution_count": 2,
   "id": "b8d6b34c-8e5b-42bf-bb62-aee240b1ecfd",
   "metadata": {},
   "outputs": [
    {
     "name": "stdout",
     "output_type": "stream",
     "text": [
      "n =  0 \t 3.0\n",
      "n =  1 \t 5.0\n",
      "n =  2 \t 17.0\n",
      "n =  3 \t 257.0\n",
      "n =  4 \t 65537.0\n"
     ]
    }
   ],
   "source": [
    "import math\n",
    "for n in range(0,5):\n",
    "    fermat = math.pow(2, math.pow(2, n)) + 1\n",
    "    print(\"n = \", n, \"\\t\", fermat)"
   ]
  },
  {
   "cell_type": "markdown",
   "id": "2102d52a-5551-4f23-ae9e-606c66910284",
   "metadata": {},
   "source": [
    "### MÜKEMMEL SAYI FORMU\n",
    "#### MÜKEMMEL SAYI NEDİR?\n",
    "Kendisi hariç tüm pozitif tam sayı bölenleri toplamına tam bölünebilen sayılara Mükemmel Sayı denir.\n",
    "\n",
    "Milattan önce 330-275 yılları arasında yaşamış İskenderiyeli matematikçi Öklid ise, bu sayı formunun hesaplanabilmesi için bir formül bulmuştur. Mükemmel sayıların hesaplanmasını sağlayacak formül budur.  --->       $2^{p-1}(2^p-1)$\n",
    "\n",
    "Ancak bu formül sadece asal olan p sayırları için geçerli olduğundan örnekte kullanılmayacaktır."
   ]
  },
  {
   "cell_type": "markdown",
   "id": "cfe4a4bf-3ba7-461d-9ff0-4fcb5ddcb54a",
   "metadata": {},
   "source": [
    "Problem açıklamas: Bir sayının mükemmel sayı olup olmadığını kontrol etmek için söz konusu sayının pozitif tam bölenleri toplamı elde edilir. Eğer elde edilen bu toplam kontrol edilen sayıya tam olarak bölünüyorsa, sayı bir mükemmel sayıdır.\n",
    "\n",
    "Bu örnekte 2 ile 10.000 arasındaki tüm sayılar için mükemmel sayı olup olmadıklarının kontrolü yapılacaktır."
   ]
  },
  {
   "cell_type": "code",
   "execution_count": 8,
   "id": "edbdadf6-d8b5-4621-a308-09b6391286fd",
   "metadata": {},
   "outputs": [
    {
     "name": "stdout",
     "output_type": "stream",
     "text": [
      "6\n",
      "28\n",
      "120\n",
      "496\n",
      "672\n",
      "8128\n"
     ]
    }
   ],
   "source": [
    "for n in range(2,10001):\n",
    "    CT = 0\n",
    "    for i in range(1, n):\n",
    "        if (n %i == 0):\n",
    "            CT += i\n",
    "    if (CT %n == 0):\n",
    "        print(n)"
   ]
  },
  {
   "cell_type": "markdown",
   "id": "ee65a92d-1627-4c29-8261-4ccbbed117d7",
   "metadata": {},
   "source": [
    "### COLLATZ TEOREMİ\n",
    "#### COLLATZ TEOREMİ NEDİR?\n",
    "1937 yılında Collatz tarafından ortaya atılmış ve henüz ispatlanamamış bir teoremdir. Teoreme göre tüm sayılar, teklik ve çiftlik durumlarına göre çeşitli işlemler ile bir sayısına indirgenebilir.\n",
    "\n",
    "Teorem der ki; \"Bir sayı al. Eğer bu sayı çift ise sayıyı ikiye böl. Eğer tek ise üç ile çarp ve bir ekle.\"\n",
    "\n",
    "Bu teoreme göre test edilecek bir sayı yukarıdaki kurallar dahilinde 1'e indirgenene kadar tekrarlanır. Aslında sayının 1'e indirgenmesi için bir noktada çift sayıya bağlanması yeterlidir.\n",
    "\n",
    "Halen kanıtlanmaya çalışılan bu teorem için 21. yüzyılın ünlü matematikçilerinden Paul Erdös, günümüz matematik biliminin bu teoremi kanıtlamaya yetmeyeceğinden bahsetmiştir.\n",
    "\n",
    "Günümüzde ise son olarak 5.764x1018 sayısı bu teorem için ispatlanmış ve halen çalışmalar devam etmektedir."
   ]
  },
  {
   "cell_type": "code",
   "execution_count": 2,
   "id": "6759b1ed-efea-4527-8ee7-e33ab115ea17",
   "metadata": {
    "tags": []
   },
   "outputs": [
    {
     "name": "stdout",
     "output_type": "stream",
     "text": [
      "1 \tCollatz ->\t 1\n",
      "2 \tCollatz ->\t 1\n",
      "3 \tCollatz ->\t 1\n",
      "4 \tCollatz ->\t 1\n",
      "5 \tCollatz ->\t 1\n",
      "6 \tCollatz ->\t 1\n",
      "7 \tCollatz ->\t 1\n",
      "8 \tCollatz ->\t 1\n",
      "9 \tCollatz ->\t 1\n",
      "10 \tCollatz ->\t 1\n",
      "11 \tCollatz ->\t 1\n",
      "12 \tCollatz ->\t 1\n",
      "13 \tCollatz ->\t 1\n",
      "14 \tCollatz ->\t 1\n",
      "15 \tCollatz ->\t 1\n",
      "16 \tCollatz ->\t 1\n",
      "17 \tCollatz ->\t 1\n",
      "18 \tCollatz ->\t 1\n",
      "19 \tCollatz ->\t 1\n",
      "20 \tCollatz ->\t 1\n",
      "21 \tCollatz ->\t 1\n",
      "22 \tCollatz ->\t 1\n",
      "23 \tCollatz ->\t 1\n",
      "24 \tCollatz ->\t 1\n"
     ]
    }
   ],
   "source": [
    "def Collatz (x):\n",
    "    if (x == 1):\n",
    "        return 1\n",
    "    elif (x %2 == 0):\n",
    "        return Collatz (x/2)\n",
    "    else:\n",
    "        return Collatz (3*x + 1)\n",
    "    \n",
    "    \n",
    "for i in range(1,25):\n",
    "    print(i, \"\\tCollatz ->\\t\", Collatz(i))"
   ]
  },
  {
   "cell_type": "markdown",
   "id": "5603bfc0-4b72-4d88-88d4-2b02dbe6ad62",
   "metadata": {},
   "source": [
    "### VARYANS VE STANDART SAPMA HESAPLAMASI\n",
    "#### VARYANS VE STANDART SAPMA NEDİR? NASIL HESAPLANIR?\n",
    "Varyans (Variance) teknik terim karşılığı olarak değişim anlamına gelir. Ekonomiden, istatistik hesaplamalarına ve yazılım alanında ise görüntü işlemede dahil olmak üzere birçok alanda kullanılır.\n",
    "\n",
    "Varyans, bir veri kümesindeki her bir verinin ortalama ile olan değişimini hesaplamamızı sağlar. \n",
    "\n",
    "Bir veri kümesinin [standart sapması](https://tr.wikipedia.org/wiki/Standart_sapma); [varyansın](https://tr.wikipedia.org/wiki/Varyans) kareköküne eşittir.\n"
   ]
  },
  {
   "cell_type": "code",
   "execution_count": 16,
   "id": "bced9b6f-8a50-4806-bae6-a06684198699",
   "metadata": {},
   "outputs": [
    {
     "name": "stdin",
     "output_type": "stream",
     "text": [
      "Kac not gireceksiniz? 5\n",
      "Sirayla notlari giriniz:   45\n",
      "Sirayla notlari giriniz:   40\n",
      "Sirayla notlari giriniz:   60\n",
      "Sirayla notlari giriniz:   85\n",
      "Sirayla notlari giriniz:   90\n"
     ]
    },
    {
     "name": "stdout",
     "output_type": "stream",
     "text": [
      "Notlar =  [45, 40, 60, 85, 90]\n",
      "Standart Sapma:  20.346989949375804\n",
      "Varyans:  414.0\n"
     ]
    }
   ],
   "source": [
    "def Varyans(notlar):\n",
    "    n = len(notlar)\n",
    "    \n",
    "    ort = sum(notlar) / n\n",
    "    sapma = [(i - ort) ** 2 for i in notlar]\n",
    "    Varyans = sum(sapma) / n\n",
    "    return Varyans\n",
    "\n",
    "def StdSapma(notlar):\n",
    "    n = len(notlar)\n",
    "    ort = sum(notlar) / n\n",
    "    sapma = [(i - ort) ** 2 for i in notlar]\n",
    "    Varyans = sum(sapma) / n\n",
    "    StdSapma = Varyans ** (1/2)\n",
    "    return StdSapma\n",
    "    \n",
    "\n",
    "notlar = []\n",
    "n = int(input(\"Kac not gireceksiniz?\"))\n",
    "sayac = 0\n",
    "while (sayac < n):\n",
    "    deger = int(input(\"Sirayla notlari giriniz:  \"))\n",
    "    notlar.append(deger)\n",
    "    sayac = sayac + 1\n",
    "    \n",
    "print(\"Notlar = \", notlar)\n",
    "stdsapma = StdSapma(notlar)\n",
    "varyans = Varyans(notlar)\n",
    "print(\"Standart Sapma: \", stdsapma)\n",
    "print(\"Varyans: \", varyans)"
   ]
  },
  {
   "cell_type": "markdown",
   "id": "5db1d9fb-b2b5-4ec5-8d52-74ff090ca644",
   "metadata": {},
   "source": [
    "### TAHMİN OYUNU\n",
    "#### OYUNUN AMACI\n",
    "+ Program, açıldığında 1 ile 20 arasında sayı üretsin ve bu sayı n değişkenine atansın.\n",
    "+ Kullanıcının 5 hakkı olsun. Bu nedenle hak adında bir değişken tanımlansın ve ilk değeri 5 yapılsın.\n",
    "+ Bir döngü açılsın ve sayi adında tanımlanmış bir değişkenin değeri klavyeden okunsun. Eğer n sayısı girilen sayıdan büyük ise kulllanıcıya \"Sayiyi Yukselt\" şeklinde bir yazı, küçük ise \"Sayiyi Kucult\" şeklinde bir yazı gösterilsin ve sayı bilinmediği için hak değişkeninin değeri bir küçültülsün. Ancak girilen sayı, üretilmiş olan n sayısına eşit ise ekrena \"Tebrikler\" şeklinde bir yazı gösterilerek oyun bitirilsin.\n",
    "+ Eğer kullanıcı sahip olduğu 5 hak ile n sayısını tahmin edemediyse ekrana \"Kaybettin\" şeklinde bir yazı gösterilsin ve oyun bitirilsin."
   ]
  },
  {
   "cell_type": "code",
   "execution_count": 25,
   "id": "4f0ac538-e63a-44b3-acab-4300a69f747c",
   "metadata": {},
   "outputs": [
    {
     "name": "stdin",
     "output_type": "stream",
     "text": [
      "Sayiyi giriniz:  10\n"
     ]
    },
    {
     "name": "stdout",
     "output_type": "stream",
     "text": [
      "Sayiyi Kucult, kalan tahmin hakkiniz : 4\n"
     ]
    },
    {
     "name": "stdin",
     "output_type": "stream",
     "text": [
      "Sayiyi giriniz:  5\n"
     ]
    },
    {
     "name": "stdout",
     "output_type": "stream",
     "text": [
      "Sayiyi Yukselt, kalan tahmin hakkiniz : 3\n"
     ]
    },
    {
     "name": "stdin",
     "output_type": "stream",
     "text": [
      "Sayiyi giriniz:  7\n"
     ]
    },
    {
     "name": "stdout",
     "output_type": "stream",
     "text": [
      "Sayiyi Yukselt, kalan tahmin hakkiniz : 2\n"
     ]
    },
    {
     "name": "stdin",
     "output_type": "stream",
     "text": [
      "Sayiyi giriniz:  8\n"
     ]
    },
    {
     "name": "stdout",
     "output_type": "stream",
     "text": [
      "Sayiyi Yukselt, kalan tahmin hakkiniz : 1\n"
     ]
    },
    {
     "name": "stdin",
     "output_type": "stream",
     "text": [
      "Sayiyi giriniz:  9\n"
     ]
    },
    {
     "name": "stdout",
     "output_type": "stream",
     "text": [
      "Tebrikler!\n"
     ]
    }
   ],
   "source": [
    "from random import randint\n",
    "hak, sayi = 5, 0\n",
    "n = randint(1,20)\n",
    "\n",
    "while True:\n",
    "    if (hak > 0):\n",
    "        sayi = int(input(\"Sayiyi giriniz: \"))\n",
    "    else:\n",
    "        print(\"Kaybettin Sayi : {}\".format(n))\n",
    "        break\n",
    "    if (sayi != n):\n",
    "        hak -= 1\n",
    "        if (sayi > n):\n",
    "            print(\"Sayiyi Kucult, kalan tahmin hakkiniz : {}\".format(hak))\n",
    "        else:\n",
    "            print(\"Sayiyi Yukselt, kalan tahmin hakkiniz : {}\".format(hak))\n",
    "    else:\n",
    "        print(\"Tebrikler!\")\n",
    "        break"
   ]
  },
  {
   "cell_type": "markdown",
   "id": "265ba132-bcda-49be-9017-2d3ce893134c",
   "metadata": {},
   "source": [
    "### PALİNDROME KELİMELER\n",
    "#### PALİNDROME KELİMELER NEDİR?\n",
    "Sağdan sola okunuşu ile soldan sağa okunuşu aynı olan kelimelere palindrome kelimeler denir. \n",
    "\n",
    "Palindrome kelimelere örnek olarak şunları verebiliriz; omo, iyi, efe, kazak, kazak, neden..."
   ]
  },
  {
   "cell_type": "code",
   "execution_count": 31,
   "id": "2b08d4fd-7cba-43dc-a44f-1987fbf5f945",
   "metadata": {},
   "outputs": [
    {
     "name": "stdin",
     "output_type": "stream",
     "text": [
      "Kelime Giriniz:  python\n"
     ]
    },
    {
     "name": "stdout",
     "output_type": "stream",
     "text": [
      "Palindorme olmayan bir kelime girdiniz.\n"
     ]
    }
   ],
   "source": [
    "def Palindrome(str):\n",
    "    for i in range(0, int(len(str)/2)):\n",
    "        if str[i] != str[len(str)-i-1]:\n",
    "            return False\n",
    "    return True\n",
    " \n",
    "kelime = str(input(\"Kelime Giriniz: \"))\n",
    "s = Palindrome(kelime)\n",
    " \n",
    "if (s):\n",
    "    print(\"Palindorme bir kelime girdiniz.\")\n",
    "else:\n",
    "    print(\"Palindorme olmayan bir kelime girdiniz.\")"
   ]
  },
  {
   "cell_type": "markdown",
   "id": "8d00ce24-4a14-4081-9469-f6a0f1556591",
   "metadata": {},
   "source": [
    "### SAYISAL LOTO\n",
    "#### TEKRARSIZ SAYI ÜRETME\n",
    "Bu uygulamada ülkemizde düzenli bir şekilde uygulanan bir şans oyunu olan sayısal loto için küçük çaplı bir sayı üreteci yapıyor olacağız. Bundan önceki örneklerde sıklıkla Python'da rastgele sayı üreten fonksiyon ve metodları kullanmıştık. Bu örnekte de aynı şekilde 6 adet sayı üretiyor olacağız. Diğer uygulamalardan tek farkı ise bu uygulamada üretilecek sayıların tekrarsız (benzersiz) olmasıdır."
   ]
  },
  {
   "cell_type": "code",
   "execution_count": 48,
   "id": "7aeaea46-edc4-4e53-a0b9-f6be361d343a",
   "metadata": {},
   "outputs": [
    {
     "name": "stdout",
     "output_type": "stream",
     "text": [
      "15 11 36 41 33 11 "
     ]
    }
   ],
   "source": [
    "from random import randint\n",
    "i, j = 0, 0\n",
    "loto = [None]*6\n",
    "\n",
    "while(i<6):\n",
    "    n = randint(1,50)\n",
    "    for j in range(0, 7):\n",
    "        if (j == 6):\n",
    "            loto[i] = n\n",
    "            i = i + 1\n",
    "for i in range(0,6):\n",
    "    print(loto[i], end = \" \")"
   ]
  },
  {
   "cell_type": "markdown",
   "id": "7186f7d1-b88e-45cb-b613-d88b2ba0af76",
   "metadata": {},
   "source": [
    "### GİRİLEN BİR DENKLEMİ SAĞLAYAN DEĞERLERİ BULMA\n",
    "Problem açıklaması: Denklemin tam sayı sonuç elde edebilmesi için sürekli rastgele sayılar üretip deneyen programı yazınız."
   ]
  },
  {
   "cell_type": "code",
   "execution_count": 54,
   "id": "c766d7cb-16a6-42d5-905c-914fe8905327",
   "metadata": {},
   "outputs": [
    {
     "name": "stdout",
     "output_type": "stream",
     "text": [
      "x =  4\n",
      "y =  8\n",
      "z =  1\n",
      "Denklemin sonucu =  87.0\n",
      "Toplam 7 adimda bulundu!\n"
     ]
    }
   ],
   "source": [
    "from random import randint\n",
    "say = 0\n",
    "\n",
    "while True:\n",
    "    x = randint(1,10)\n",
    "    y = randint(1,10)\n",
    "    z = randint(1,10)\n",
    "    dene = 10 + x + y / z + y * y + x / x\n",
    "    say = say + 1\n",
    "    \n",
    "    if (dene == int(dene) and dene != 0.0):\n",
    "        print(\"x = \", x)\n",
    "        print(\"y = \", y)\n",
    "        print(\"z = \", z)\n",
    "        print(\"Denklemin sonucu = \", dene)\n",
    "        print(\"Toplam\", say, \"adimda bulundu!\")\n",
    "        break"
   ]
  },
  {
   "cell_type": "markdown",
   "id": "dbebce05-d6d5-43aa-848e-b49484ba0533",
   "metadata": {},
   "source": [
    "### KREDİ KARTI DOĞRULAMA (LUHN ALGORİTMASI)\n",
    "#### LUHN ALGORİTMASI NEDİR?\n",
    "Alman asıllı bir bilgsayar bilimcisi olan Hans Luhn ve IBM tarafından 1954 yılında geliştirilen ve günümüzde halen tüm kredi kartlarında kullanılan değrulama algoritmasıdır. Luhn algoritması kredi kartları üzerinde 16 hane ile belirtilmiş olan kart numaralarında, her bir hanenin arasında belli bir artimetik kurmayı sağlamıştır. Aynı zamanda bu algoritma bazı kaynaklarda Luhn Check ve Mod Check isimleriyle geçmektedir.\n",
    "\n",
    "16 haneli bir kredi kartı numarasında ilk hanenin indisi 0 ve son hanenin indisi 15 olmak üzere algoritmayı aşağıdaki gibi ele alabiliriz:\n",
    "\n",
    "    1. Çift indisli hanelerinin iki katını al. Çıkan sonucun basamaklarını topla ve bir değişkende tut (ciftToplam).\n",
    "    2. Tek indisli hanelerin toplamını bir başka değişkende tut (tekToplam).\n",
    "    3. ciftToplam+tekToplam işleminin sonucunda sayı eğer 10 ile tam bölünebiliyorsa, girilen numara doğrudur."
   ]
  },
  {
   "cell_type": "code",
   "execution_count": 12,
   "id": "e5fc5da4-5cd7-46be-969a-2d818ff8f3c8",
   "metadata": {},
   "outputs": [
    {
     "name": "stdin",
     "output_type": "stream",
     "text": [
      "Kredi kartı no giriniz:  4531444531442283\n"
     ]
    },
    {
     "name": "stdout",
     "output_type": "stream",
     "text": [
      "Dogru Kart Numarasi!\n"
     ]
    }
   ],
   "source": [
    "def BasamakTopla(sayi):\n",
    "    toplam = 0\n",
    "    while (sayi != 0):\n",
    "        toplam += sayi % 10\n",
    "        sayi /= 10\n",
    "    return toplam\n",
    "\n",
    "no = int(input(\"Kredi kartı no giriniz: \"))\n",
    "tekler, ciftler = 0, 0\n",
    "\n",
    "for i in range(0, 16):\n",
    "    if (i %2 == 0):\n",
    "        ciftler += BasamakTopla (2*(no-0))\n",
    "    else:\n",
    "        tekler += (no-0)\n",
    "        \n",
    "if ((tekler + ciftler) %10 == 0):\n",
    "    print(\"Dogru Kart Numarasi!\")\n",
    "else:\n",
    "    print(\"Yanlis kart numarasi!\")"
   ]
  }
 ],
 "metadata": {
  "kernelspec": {
   "display_name": "Python 3 (ipykernel)",
   "language": "python",
   "name": "python3"
  },
  "language_info": {
   "codemirror_mode": {
    "name": "ipython",
    "version": 3
   },
   "file_extension": ".py",
   "mimetype": "text/x-python",
   "name": "python",
   "nbconvert_exporter": "python",
   "pygments_lexer": "ipython3",
   "version": "3.9.13"
  }
 },
 "nbformat": 4,
 "nbformat_minor": 5
}
