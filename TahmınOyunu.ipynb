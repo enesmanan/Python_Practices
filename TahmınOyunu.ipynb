{
 "cells": [
  {
   "cell_type": "markdown",
   "id": "fb04b6f4-e4b5-456b-9e2f-8cbd7b0811b5",
   "metadata": {},
   "source": [
    "## SAYI TAHMIN OYUNU"
   ]
  },
  {
   "cell_type": "code",
   "execution_count": 32,
   "id": "b9dc9bc3-6acb-4424-a7f7-e78f1a9cc57f",
   "metadata": {},
   "outputs": [
    {
     "name": "stdout",
     "output_type": "stream",
     "text": [
      "----------------------------------------------\n",
      "            SAYI TAHMIN OYUNU\n",
      "----------------------------------------------\n",
      "\n",
      "\n"
     ]
    },
    {
     "name": "stdin",
     "output_type": "stream",
     "text": [
      "Level seciniz:\n",
      "    Kolay icin 1 (1-10)\n",
      "    Orta icin 2  (1-50)\n",
      "    Zor icin 3   (1-100)\n",
      "    Cok zor icin 4 (1-1000)'e basınız 4\n",
      "Sizce sayi kac ? 137\n"
     ]
    },
    {
     "name": "stdout",
     "output_type": "stream",
     "text": [
      "Sayi yukarida, kalan tahmin hakkiniz : 7\n"
     ]
    },
    {
     "name": "stdin",
     "output_type": "stream",
     "text": [
      "Sizce sayi kac ? 500\n"
     ]
    },
    {
     "name": "stdout",
     "output_type": "stream",
     "text": [
      "Sayi yukarida, kalan tahmin hakkiniz : 6\n"
     ]
    },
    {
     "name": "stdin",
     "output_type": "stream",
     "text": [
      "Sizce sayi kac ? 600\n"
     ]
    },
    {
     "name": "stdout",
     "output_type": "stream",
     "text": [
      "Sayi yukarida, kalan tahmin hakkiniz : 5\n"
     ]
    },
    {
     "name": "stdin",
     "output_type": "stream",
     "text": [
      "Sizce sayi kac ? 700\n"
     ]
    },
    {
     "name": "stdout",
     "output_type": "stream",
     "text": [
      "Sayi yukarida, kalan tahmin hakkiniz : 4\n"
     ]
    },
    {
     "name": "stdin",
     "output_type": "stream",
     "text": [
      "Sizce sayi kac ? 900\n"
     ]
    },
    {
     "name": "stdout",
     "output_type": "stream",
     "text": [
      "Sayi yukarida, kalan tahmin hakkiniz : 3\n"
     ]
    },
    {
     "name": "stdin",
     "output_type": "stream",
     "text": [
      "Sizce sayi kac ? 950\n"
     ]
    },
    {
     "name": "stdout",
     "output_type": "stream",
     "text": [
      "Sayi asagida, kalan tahmin hakkiniz : 2\n"
     ]
    },
    {
     "name": "stdin",
     "output_type": "stream",
     "text": [
      "Sizce sayi kac ? 930\n"
     ]
    },
    {
     "name": "stdout",
     "output_type": "stream",
     "text": [
      "Sayi yukarida, kalan tahmin hakkiniz : 1\n"
     ]
    },
    {
     "name": "stdin",
     "output_type": "stream",
     "text": [
      "Sizce sayi kac ? 935\n"
     ]
    },
    {
     "name": "stdout",
     "output_type": "stream",
     "text": [
      "Sayi yukarida, kalan tahmin hakkiniz : 0\n",
      "Sayiyi tahmin edemediniz: Sayi : 945\n"
     ]
    },
    {
     "name": "stdin",
     "output_type": "stream",
     "text": [
      "Oyuna devam etmek istiyor musunuz? (E/H) H\n"
     ]
    }
   ],
   "source": [
    "from random import randint\n",
    "\n",
    "print(\"----------------------------------------------\")\n",
    "print(\"            SAYI TAHMIN OYUNU\")\n",
    "print(\"----------------------------------------------\")\n",
    "print()\n",
    "\n",
    "oyun = True\n",
    "\n",
    "while oyun:\n",
    "    print()\n",
    "    x = int(input(\"\"\"Level seciniz:\n",
    "    Kolay icin 1 (1-10)\n",
    "    Orta icin 2  (1-50)\n",
    "    Zor icin 3   (1-100)\n",
    "    Cok zor icin 4 (1-1000)'e basınız\"\"\"))\n",
    "    \n",
    "    if (x == 1):\n",
    "        i = randint(1,10)\n",
    "        hak = 5\n",
    "        pass\n",
    "    elif (x == 2):\n",
    "        i = randint(1,50)\n",
    "        hak = 6\n",
    "        pass\n",
    "    elif (x == 3):\n",
    "        i = randint(1,100)\n",
    "        hak = 7\n",
    "        pass\n",
    "    elif (x == 4):\n",
    "        i = randint(1,1000)\n",
    "        hak = 8\n",
    "        pass\n",
    "    else:\n",
    "        print(\"Lutfen 1 ile 5 arasinda sayi giriniz.\")\n",
    "        break\n",
    "        \n",
    "    while True:\n",
    "        \n",
    "        if hak > 0:\n",
    "            tahmin = int(input(\"Sizce sayi kac ?\"))\n",
    "        else:\n",
    "            print(\"Sayiyi tahmin edemediniz: Sayi : {}\".format(i))\n",
    "            break\n",
    "        if tahmin != i:\n",
    "            hak -= 1\n",
    "            if tahmin > i:\n",
    "                print(\"Sayi asagida, kalan tahmin hakkiniz : {}\".format(hak))\n",
    "            else:\n",
    "                print(\"Sayi yukarida, kalan tahmin hakkiniz : {}\".format(hak))\n",
    "        else:\n",
    "            print(\"Tebrikler, sayiyi buldunuz.\")\n",
    "            break\n",
    "            \n",
    "    devam = input(\"Oyuna devam etmek istiyor musunuz? (E/H)\")\n",
    "    if devam == \"E\":\n",
    "        oyun = True\n",
    "    else:\n",
    "        oyun = False"
   ]
  }
 ],
 "metadata": {
  "kernelspec": {
   "display_name": "Python 3 (ipykernel)",
   "language": "python",
   "name": "python3"
  },
  "language_info": {
   "codemirror_mode": {
    "name": "ipython",
    "version": 3
   },
   "file_extension": ".py",
   "mimetype": "text/x-python",
   "name": "python",
   "nbconvert_exporter": "python",
   "pygments_lexer": "ipython3",
   "version": "3.9.7"
  }
 },
 "nbformat": 4,
 "nbformat_minor": 5
}
