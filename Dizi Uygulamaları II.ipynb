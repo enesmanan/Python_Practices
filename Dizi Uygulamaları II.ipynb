{
 "cells": [
  {
   "cell_type": "markdown",
   "id": "e014f9a5-a4ce-493f-a116-c7cf7d22a9a1",
   "metadata": {},
   "source": [
    "# ALGORİTMA ÖRNEKLERİ\n",
    "Kodlab yayinlarinin algoritma ve programlama mantıgı isimli kitabindaki algoritma ornkeklerinin python dilinde yazilmiş halleri."
   ]
  },
  {
   "cell_type": "markdown",
   "id": "9649b716-e0d0-47b8-8a82-488515ffb71a",
   "metadata": {
    "tags": []
   },
   "source": [
    "## DİZİ (LİSTE) UYGULAMALARI"
   ]
  },
  {
   "cell_type": "markdown",
   "id": "10198f2b-3d71-40bc-806d-dbcc40b4f947",
   "metadata": {},
   "source": [
    "### KLAVYEDEN ALINAN SAYILARI BİR DİZİYE AKTARMA\n",
    "Problem açıklaması: Klavyeden alınacak 10 adet sayıyı, daha önce tanımlanmış olan bir diziye/listeye aktaran programı yazınız."
   ]
  },
  {
   "cell_type": "code",
   "execution_count": 21,
   "id": "b1e208bd-534f-42ee-946a-60c8f2d31e19",
   "metadata": {},
   "outputs": [
    {
     "name": "stdin",
     "output_type": "stream",
     "text": [
      "Listeye aktarilacak sayi giriniz:  127\n",
      "Listeye aktarilacak sayi giriniz:  378\n",
      "Listeye aktarilacak sayi giriniz:  457\n",
      "Listeye aktarilacak sayi giriniz:  0\n",
      "Listeye aktarilacak sayi giriniz:  675\n",
      "Listeye aktarilacak sayi giriniz:  363546634\n",
      "Listeye aktarilacak sayi giriniz:  3\n",
      "Listeye aktarilacak sayi giriniz:  888\n",
      "Listeye aktarilacak sayi giriniz:  768\n",
      "Listeye aktarilacak sayi giriniz:  45794\n"
     ]
    },
    {
     "name": "stdout",
     "output_type": "stream",
     "text": [
      "Liste =  [127, 378, 457, 0, 675, 363546634, 3, 888, 768, 45794]\n"
     ]
    }
   ],
   "source": [
    "liste = []\n",
    "sayac = 0\n",
    "while (sayac < 10):\n",
    "    sayi = int(input(\"Listeye aktarilacak sayi giriniz: \"))\n",
    "    liste.append(sayi)\n",
    "    sayac = sayac + 1\n",
    "    \n",
    "print(\"Liste = \", liste)"
   ]
  },
  {
   "cell_type": "markdown",
   "id": "389b238a-5eab-4bc3-a0f9-974f2dc312da",
   "metadata": {},
   "source": [
    "### BİR DİZİNİN TÜM ELEMANLARINI EKRANA YAZDIRMA\n",
    "Problem açıklaması: Tanımlanmış ve içi dolu alarak varsayılan bir dizinin/listenin tüm elemanlarına ulaşan ve ekrana yazdıran programı yazınız."
   ]
  },
  {
   "cell_type": "code",
   "execution_count": 43,
   "id": "eb6841bf-eff1-4ae4-924a-4bc6fc30f383",
   "metadata": {},
   "outputs": [
    {
     "name": "stdout",
     "output_type": "stream",
     "text": [
      "1. elamanin degeri:  8\n",
      "2. elamanin degeri:  10\n",
      "3. elamanin degeri:  56\n",
      "4. elamanin degeri:  12\n",
      "5. elamanin degeri:  3\n",
      "6. elamanin degeri:  5\n",
      "7. elamanin degeri:  8\n",
      "8. elamanin degeri:  1\n",
      "9. elamanin degeri:  74\n",
      "10. elamanin degeri:  6\n",
      "11. elamanin degeri:  11\n",
      "12. elamanin degeri:  89\n"
     ]
    }
   ],
   "source": [
    "liste = [8,10,56,12,3,5,8,1,74,6,11,89]\n",
    "sayac = 0\n",
    "for eleman in liste:\n",
    "    sayac = sayac + 1\n",
    "    print(\"{}. elamanin degeri: \".format(sayac),eleman)\n"
   ]
  },
  {
   "cell_type": "markdown",
   "id": "533aacae-ebb5-48ab-8381-784e3caaceff",
   "metadata": {},
   "source": [
    "### BİR DİZİNİN TÜM ELEMANLARI TOPLAMINI HESAPLAMA\n",
    "Problem açıklaması: Tam sayıları baarındıran bir dizinin/listenin içerisindeki tüm sayıları toplayan ve ekrana yazdıran programı yazınız."
   ]
  },
  {
   "cell_type": "code",
   "execution_count": 67,
   "id": "54a9b386-7308-44c6-9d40-30022ebb202f",
   "metadata": {},
   "outputs": [
    {
     "name": "stdout",
     "output_type": "stream",
     "text": [
      "2+5+12+17+8+9+1+33+ = 87\n"
     ]
    }
   ],
   "source": [
    "liste = [2,5,12,17,8,9,1,33]\n",
    "toplam = sum(liste)\n",
    "for eleman in liste:\n",
    "    print(\"{}\".format(eleman), end = \"+\")\n",
    "print(\" =\", toplam)    "
   ]
  },
  {
   "cell_type": "markdown",
   "id": "0c8e2904-8ee1-4417-adf9-8482f3cd355e",
   "metadata": {},
   "source": [
    "### BİR DİZİNİN TÜM ELEMANLARINI BİR KATSAYI İLE ÇARPMA\n",
    "Problem açıklaması: Bir dizinin/listenin tüm elemanlarını, klavyeden girilecek bi k katsayısı ile çarpan ve dizinin eski haliyle yeni halini ekrana yazdıran program."
   ]
  },
  {
   "cell_type": "code",
   "execution_count": 40,
   "id": "0ff94157-a278-4566-9fb1-4ea8224519d5",
   "metadata": {},
   "outputs": [
    {
     "name": "stdin",
     "output_type": "stream",
     "text": [
      "Maas zammi icin bir katsayi (k) giriniz:  1.3\n"
     ]
    },
    {
     "name": "stdout",
     "output_type": "stream",
     "text": [
      "\tESKİ\tYeni\tZam\n",
      "\n",
      "\n",
      "\t 1900 TL\t 2470.0 TL\t 570.0 TL\n",
      "\t 2200 TL\t 2860.0 TL\t 660.0 TL\n",
      "\t 2360 TL\t 3068.0 TL\t 708.0 TL\n",
      "\t 2400 TL\t 3120.0 TL\t 720.0 TL\n",
      "\t 3600 TL\t 4680.0 TL\t 1080.0 TL\n",
      "\t 3950 TL\t 5135.0 TL\t 1185.0 TL\n",
      "\t 4450 TL\t 5785.0 TL\t 1335.0 TL\n",
      "\t 4750 TL\t 6175.0 TL\t 1425.0 TL\n",
      "\t 4900 TL\t 6370.0 TL\t 1470.0 TL\n",
      "\t 6000 TL\t 7800.0 TL\t 1800.0 TL\n"
     ]
    }
   ],
   "source": [
    "A = [1900,2200,2360,2400,3600,3950,4450,4750,4900,6000]\n",
    "B = [len(A)]\n",
    "k = float(input(\"Maas zammi icin bir katsayi (k) giriniz: \"))\n",
    "\n",
    "B = [A[i]*k for i in range(len(A))]\n",
    "    \n",
    "print(\"\\tESKİ\\tYeni\\tZam\\n\\n\")\n",
    "\n",
    "for i in range(0, len(A)):\n",
    "    print(\"\\t\", A[i], \"TL\\t\", B[i], \"TL\\t\", (B[i] - A[i]), \"TL\")"
   ]
  },
  {
   "cell_type": "markdown",
   "id": "816a8a16-8fa3-4058-b886-49bc0d32cf86",
   "metadata": {},
   "source": [
    "### İKİ DİZİNİN TÜM ELEMANLARINI KARŞILIKLI OLARAK TOPLAMA\n",
    "Problem açıklaması: İçleri dolu iki ayrı dizinin/listenin tüm elemanlarının karşılıklı olarak toplayan ve ekrana yazdıran programı yazınız."
   ]
  },
  {
   "cell_type": "code",
   "execution_count": 100,
   "id": "2b0f81e1-a23f-4d7c-a1f5-e0460bb1135b",
   "metadata": {},
   "outputs": [
    {
     "name": "stdout",
     "output_type": "stream",
     "text": [
      "\t A + B = C \n",
      "\n",
      "\t 12  +  38  =  50\n",
      "\t 18  +  11  =  29\n",
      "\t 22  +  14  =  36\n",
      "\t 10  +  5  =  15\n",
      "\t 88  +  20  =  108\n",
      "\t 25  +  13  =  38\n"
     ]
    }
   ],
   "source": [
    "A = [12,18,22,10,88,25]\n",
    "B = [38,11,14,5,20,13]\n",
    "C = []\n",
    "C = [sum(i) for i in zip(A,B)]\n",
    "\n",
    "print(\"\\t A + B = C \\n\")\n",
    "\n",
    "for i in range(0, len(A)):\n",
    "    print(\"\\t\", A[i], \" + \", B[i], \" = \", C[i])"
   ]
  },
  {
   "cell_type": "markdown",
   "id": "57c83fac-8a10-4617-97bf-5bebc7ec7463",
   "metadata": {},
   "source": [
    "### BİR DİZİDEKİ İKİ ELEMANIN YERİNİ DEĞİŞTİRME\n",
    "Problem açıklaması: Bir dizide, klavyeden alınan indis numaralarına karşlık gelen sayıların yerlerini değiştiren ve dizinin son halini ekrena yazdıran programı yazınız."
   ]
  },
  {
   "cell_type": "code",
   "execution_count": 109,
   "id": "1ed9b6b0-2074-4a6d-b323-445e554087eb",
   "metadata": {},
   "outputs": [
    {
     "name": "stdin",
     "output_type": "stream",
     "text": [
      "Birinci index (a) giriniz:  0\n",
      "Ikinci index (b) giriniz:  8\n"
     ]
    },
    {
     "name": "stdout",
     "output_type": "stream",
     "text": [
      "9 2 3 4 5 6 7 8 1 "
     ]
    }
   ],
   "source": [
    "liste = [1,2,3,4,5,6,7,8,9]\n",
    "a = int(input(\"Birinci index (a) giriniz: \"))\n",
    "b = int(input(\"Ikinci index (b) giriniz: \"))\n",
    "\n",
    "temp = liste[a]\n",
    "liste[a] = liste[b]\n",
    "liste[b] = temp\n",
    "\n",
    "for i in range(0, len(liste)):\n",
    "    print(liste[i], end = \" \")"
   ]
  },
  {
   "cell_type": "markdown",
   "id": "59e0dc56-30a0-4137-add0-1f4ca47c6eb5",
   "metadata": {},
   "source": [
    "### BİR DİZİYİ TESRİNE ÇEVİRME\n",
    "Problem açıklaması: Bir diziyi/listeyi tersine çeviren ve dizinin/listenin tam halini ekrana yazdıran programı yazınız."
   ]
  },
  {
   "cell_type": "code",
   "execution_count": 10,
   "id": "cef4fbe2-f192-4985-8107-ed09da00cda2",
   "metadata": {},
   "outputs": [
    {
     "name": "stdout",
     "output_type": "stream",
     "text": [
      "10 9 8 7 6 5 4 3 2 1 "
     ]
    }
   ],
   "source": [
    "liste = [1,2,3,4,5,6,7,8,9,10]\n",
    "boyut = len(liste)\n",
    "\n",
    "for i in range(0, int(boyut/2)):\n",
    "    temp = liste[i]\n",
    "    liste[i] = liste[boyut-i-1]\n",
    "    liste[boyut-i-1] = temp\n",
    "    \n",
    "for i in range(0, boyut):\n",
    "    print(liste[i], end = \" \")"
   ]
  },
  {
   "cell_type": "markdown",
   "id": "aeafc046-d4de-4897-914d-aaa236606da9",
   "metadata": {},
   "source": [
    "### BİR DİZİ İÇERİSİNDE ARAMA YAPMA\n",
    "Problem açıklaması: Klavyeden alınan sayının, dizide/listede var olup olmadığını kontrol eden ve bu durumu ekrana yazdıran programı yazınız."
   ]
  },
  {
   "cell_type": "code",
   "execution_count": 11,
   "id": "7f6d7d2e-75d0-4d89-9485-d781c053ac64",
   "metadata": {},
   "outputs": [
    {
     "name": "stdin",
     "output_type": "stream",
     "text": [
      "Aramak istediginiz sayiyi giriniz:  5\n"
     ]
    },
    {
     "name": "stdout",
     "output_type": "stream",
     "text": [
      "Aranilan eleman bulundu index numarası:  4\n"
     ]
    }
   ],
   "source": [
    "liste = [1,2,3,4,5,6,7,8,9,10]\n",
    "ara, yer = -1, -1\n",
    "ara = int(input(\"Aramak istediginiz sayiyi giriniz: \"))\n",
    "for i in range(0, len(liste)):\n",
    "    if (liste[i] == ara):\n",
    "        yer = i\n",
    "        break\n",
    "        \n",
    "if (yer != -1):\n",
    "    print(\"Aranilan eleman bulundu index numarası: \", yer)\n",
    "else:\n",
    "    print(\"Aranilan eleman bulunamadi.\")"
   ]
  },
  {
   "cell_type": "markdown",
   "id": "78879ae9-4523-4b58-8041-6e9c592b5713",
   "metadata": {},
   "source": [
    "### BİR DİZİNİN EN BUYUK VE EN KUCUK ELEMANLARINI BULMA\n",
    "Problem açıklaması: İçerisinde tam sayılar olan bir dizinin/listenin en büyük ve en küçük elemanını bulan ve ekrena  yazdıran programı yazınız."
   ]
  },
  {
   "cell_type": "code",
   "execution_count": 12,
   "id": "ce364ebc-d608-4d3d-b43e-4183c3f6ef13",
   "metadata": {},
   "outputs": [
    {
     "name": "stdout",
     "output_type": "stream",
     "text": [
      "En kucuk deger:  1\n",
      "En buyuk deger:  10\n"
     ]
    }
   ],
   "source": [
    "liste = [1,2,3,4,5,6,7,8,9,10]\n",
    "kucuk = liste[0]\n",
    "buyuk = liste[0]\n",
    "for i in range(0, len(liste)):\n",
    "    if (liste[i] < kucuk):\n",
    "        kucuk = liste[i]\n",
    "    if (liste[i] > buyuk):\n",
    "        buyuk = liste[i]\n",
    "        \n",
    "print(\"En kucuk deger: \", kucuk)\n",
    "print(\"En buyuk deger: \", buyuk)"
   ]
  },
  {
   "cell_type": "markdown",
   "id": "5cbb4a06-e560-46b8-8f5a-5f017cc625b2",
   "metadata": {},
   "source": [
    "### BİR KELİMEYİ ASCII TABLOSUNA GÖRE ŞİFRELEME\n",
    "Problem açıklaması: Büyük harfler ile yazılmış bir kelimeyi ASCII tablosuna göre şifreleyen ve şifrelenmiş halini ekrana yazdıran programı yazınız."
   ]
  },
  {
   "cell_type": "code",
   "execution_count": 49,
   "id": "ceaf0e15-baa2-472b-8604-be44461d13bf",
   "metadata": {},
   "outputs": [
    {
     "name": "stdin",
     "output_type": "stream",
     "text": [
      "Bir kelime giriniz:  Python\n"
     ]
    },
    {
     "name": "stdout",
     "output_type": "stream",
     "text": [
      "UDYMTS\n"
     ]
    }
   ],
   "source": [
    "kelime = input(\"Bir kelime giriniz: \").upper()\n",
    "yeni = \"\"\n",
    "\n",
    "for harf in kelime:\n",
    "    if (harf == \" \"):\n",
    "        yeni += \" \"\n",
    "    elif (ord(harf) + 5 > ord(\"Z\")):\n",
    "        yeni += chr(ord(harf) + 5 - 26)\n",
    "    else:\n",
    "        yeni += chr(ord(harf) + 5)\n",
    "        \n",
    "print(yeni)"
   ]
  },
  {
   "cell_type": "markdown",
   "id": "d2dde86f-908e-4b65-ad31-bf789693bb68",
   "metadata": {},
   "source": [
    "### BİR DİZİYİ RASTGELE SAYILARLA DOLDURMA\n",
    "Problem açıklaması: Klavyeden girilen eleman sayısına göre bir dizi/liste oluşturan ve bu dizinin/listenin tüm elemanlarını rastgele sayılarla dolduran programı yazınız."
   ]
  },
  {
   "cell_type": "code",
   "execution_count": 27,
   "id": "9734328d-31d0-423c-ac40-987e1946183e",
   "metadata": {},
   "outputs": [
    {
     "name": "stdin",
     "output_type": "stream",
     "text": [
      "Eleman sayisi (n) giriniz:  10\n"
     ]
    },
    {
     "name": "stdout",
     "output_type": "stream",
     "text": [
      "77 76 55 59 14 31 28 97 63 91 "
     ]
    }
   ],
   "source": [
    "import random\n",
    "n = int(input(\"Eleman sayisi (n) giriniz: \"))\n",
    "\n",
    "sayilar = []\n",
    "\n",
    "for i in range(n):\n",
    "    sayilar.append(random.randint(0,100))\n",
    "    \n",
    "for i in range(0, n):\n",
    "    print(sayilar[i], end = \" \")"
   ]
  },
  {
   "cell_type": "markdown",
   "id": "f83a26ad-1842-40f5-a3c4-7a8c429b26c9",
   "metadata": {},
   "source": [
    "### BİR DİZİDE KAÇ ADET TEK, ÇİFT VE ASAL SAYI OLDUĞUNU BULMA\n",
    "Problem açıklaması: Bir dizi/liste içerisindeki sayılardan kaç tanesinin tek, çift ve asal sayı olduğunu bulan ve ekrana yazandıran programı yazınız."
   ]
  },
  {
   "cell_type": "code",
   "execution_count": 16,
   "id": "3c5c82ed-02c5-4302-8efa-f128be39a377",
   "metadata": {},
   "outputs": [
    {
     "name": "stdout",
     "output_type": "stream",
     "text": [
      "Toplam cift sayi:  9\n",
      "Toplam tek sayi:  8\n",
      "Toplam asal sayi:  6\n"
     ]
    }
   ],
   "source": [
    "s = [22,36,12,44,56,96,34,23,47,85,76,13,19,45,48,53,7]\n",
    "tek, cift, asal = 0, 0, 0\n",
    "\n",
    "for i in range(0, len(s)):\n",
    "    sayi = s[i]\n",
    "    if (sayi %2 == 0):\n",
    "        cift = cift + 1\n",
    "    bolen = 0\n",
    "    \n",
    "    for j in range(1, sayi):\n",
    "        if (sayi %j == 0):\n",
    "            bolen = bolen + 1\n",
    "    if (bolen == 1):\n",
    "        asal = asal + 1\n",
    "        \n",
    "tek = len(s) - cift\n",
    "\n",
    "print(\"Toplam cift sayi: \", cift)\n",
    "print(\"Toplam tek sayi: \", tek)\n",
    "print(\"Toplam asal sayi: \", asal)"
   ]
  },
  {
   "cell_type": "markdown",
   "id": "dea59ff4-4697-4af6-8353-c7b998a68604",
   "metadata": {},
   "source": [
    "### BİR KELİMDE HANGİ HARFTEN KAÇ ADET GEÇTİĞİNİ BULMA\n",
    "Problem açıklaması: Klavyeden küçük harfle ile girilecek bir kelimenin içerisinde hangi harften kaç tane geçtiğini tespit eden ve ekrana bastıran programı yazınız."
   ]
  },
  {
   "cell_type": "code",
   "execution_count": 75,
   "id": "1dddc2e2-4b0b-4d66-a8b3-863d3029f41e",
   "metadata": {},
   "outputs": [
    {
     "name": "stdin",
     "output_type": "stream",
     "text": [
      "Bir kelime giriniz:  algoritma\n"
     ]
    },
    {
     "name": "stdout",
     "output_type": "stream",
     "text": [
      "Counter({'a': 2, 'l': 1, 'g': 1, 'o': 1, 'r': 1, 'i': 1, 't': 1, 'm': 1})\n"
     ]
    }
   ],
   "source": [
    "from collections import Counter\n",
    "\n",
    "kelime = str(input(\"Bir kelime giriniz: \"))\n",
    "\n",
    "print(collections.Counter(kelime))"
   ]
  },
  {
   "cell_type": "markdown",
   "id": "f9557c50-2d4a-40e8-a5a7-ac99f3629ca5",
   "metadata": {},
   "source": [
    "### BİR DİZİDEKİ SAYILARI KÜÇÜKTEN BÜYÜĞE SIRALAMA\n",
    "Problem açıklaması: Klavyeden girilen sayılar ile bir dizi/liste oluşturup, bu diziyi küçükten büyüğe sıralayan ve yeni halini ekrana bastıran programı yazınız."
   ]
  },
  {
   "cell_type": "code",
   "execution_count": null,
   "id": "e4325506-d531-4841-9591-ce730a256549",
   "metadata": {},
   "outputs": [
    {
     "name": "stdin",
     "output_type": "stream",
     "text": [
      "Eleman sayisi giriniz:  7\n",
      "Listeye aktarilacak sayi giriniz:  0\n",
      "Listeye aktarilacak sayi giriniz:  124\n",
      "Listeye aktarilacak sayi giriniz:  457568657\n",
      "Listeye aktarilacak sayi giriniz:  234\n",
      "Listeye aktarilacak sayi giriniz:  123\n",
      "Listeye aktarilacak sayi giriniz:  465805\n",
      "Listeye aktarilacak sayi giriniz:  2\n"
     ]
    },
    {
     "name": "stdout",
     "output_type": "stream",
     "text": [
      "------ Siralanmis Liste ------\n",
      "Liste =  [0, 2, 123, 124, 234, 465805, 457568657]\n"
     ]
    }
   ],
   "source": [
    "liste = []\n",
    "N = int(input(\"Eleman sayisi giriniz: \"))\n",
    "for i in range(N):\n",
    "    sayi = int(input(\"Listeye aktarilacak sayi giriniz: \"))\n",
    "    liste.append(sayi)\n",
    "    \n",
    "liste.sort()\n",
    "print(\"------ Siralanmis Liste ------\")\n",
    "print(\"Liste = \", liste)"
   ]
  },
  {
   "cell_type": "markdown",
   "id": "dd3ba748-4d71-4ed6-b64b-2bb89a4f2fa9",
   "metadata": {},
   "source": [
    "### BİR MATRİS OLUŞTURMA VE DEĞERLERİNİ KLAVYEDEN OKUMA\n",
    "Problem açıklaması: Klavyeden girilen N değerine göre $NxN$ boyutunda bir kare matris oluşturuan ve klavyeden tüm değerleri okuyan programı yazınız."
   ]
  },
  {
   "cell_type": "code",
   "execution_count": 1,
   "id": "e29545b9-51cf-49b1-9b90-814b1695ddb2",
   "metadata": {},
   "outputs": [
    {
     "name": "stdin",
     "output_type": "stream",
     "text": [
      "Sutun giriniz:  3\n",
      "Satir giriniz:  3\n"
     ]
    },
    {
     "name": "stdout",
     "output_type": "stream",
     "text": [
      "Sira ile giris yapiniz:\n"
     ]
    },
    {
     "name": "stdin",
     "output_type": "stream",
     "text": [
      " 5\n",
      " 4\n",
      " 3\n",
      " 3\n",
      " 2\n",
      " 7\n",
      " 5\n",
      " 4\n",
      " 5\n"
     ]
    },
    {
     "name": "stdout",
     "output_type": "stream",
     "text": [
      "5 4 3 \n",
      "3 2 7 \n",
      "5 4 5 \n"
     ]
    }
   ],
   "source": [
    "sutun = int(input(\"Sutun giriniz: \"))\n",
    "satır = int(input(\"Satir giriniz: \"))\n",
    "\n",
    "matrix = []\n",
    "print(\"Sira ile giris yapiniz:\")\n",
    "\n",
    "for i in range(sutun):          \n",
    "    a =[]\n",
    "    for j in range(satır):     \n",
    "         a.append(int(input()))\n",
    "    matrix.append(a)\n",
    "\n",
    "for i in range(sutun):\n",
    "    for j in range(satır):\n",
    "        print(matrix[i][j], end = \" \")\n",
    "    print()"
   ]
  },
  {
   "cell_type": "markdown",
   "id": "ca914696-2a01-43f8-8d06-70d849e293e4",
   "metadata": {},
   "source": [
    "### BİR MATRİSİN TÜM ELEMANLARI TOPLAMINI HESAPLAMA\n",
    "Problem açıklaması: Değerleri klavyeden girilen bir matrisin tüm elamanları toplamını hesaplayan ve ekrana yazdıran programı yazınız."
   ]
  },
  {
   "cell_type": "code",
   "execution_count": 15,
   "id": "50eecca8-b9c3-4784-9ae5-f4d4975d4cd3",
   "metadata": {},
   "outputs": [
    {
     "name": "stdin",
     "output_type": "stream",
     "text": [
      "Sutun giriniz:  2\n",
      "Satir giriniz:  2\n"
     ]
    },
    {
     "name": "stdout",
     "output_type": "stream",
     "text": [
      "Sira ile giris yapiniz:\n"
     ]
    },
    {
     "name": "stdin",
     "output_type": "stream",
     "text": [
      " 1\n",
      " 2\n",
      " 3\n",
      " 4\n"
     ]
    },
    {
     "name": "stdout",
     "output_type": "stream",
     "text": [
      "1 2 \n",
      "3 4 \n",
      "Matrix: \n",
      " [[1, 2], [3, 4]]\n",
      "\n",
      "The sum of the matrix is:  10\n"
     ]
    }
   ],
   "source": [
    "import numpy as np\n",
    "sutun = int(input(\"Sutun giriniz: \"))\n",
    "satır = int(input(\"Satir giriniz: \"))\n",
    "\n",
    "matrix = []\n",
    "print(\"Sira ile giris yapiniz:\")\n",
    "\n",
    "for i in range(sutun):          \n",
    "    a =[]\n",
    "    for j in range(satır):     \n",
    "         a.append(int(input()))\n",
    "    matrix.append(a)\n",
    "\n",
    "for i in range(sutun):\n",
    "    for j in range(satır):\n",
    "        print(matrix[i][j], end = \" \")\n",
    "    print()\n",
    "print(\"Matrix: \\n\", matrix)\n",
    "print(\"\\nThe sum of the matrix is: \", np.sum(matrix))   "
   ]
  },
  {
   "cell_type": "markdown",
   "id": "576bfb8d-f801-45cf-abc9-3eef4117c8f5",
   "metadata": {},
   "source": [
    "### BİR MATRİSİN TRANSPOZUNU BULMA\n",
    "Açıklama: Bir matrisin transpozunu elde etmek için, söz konusu matrisin satır ve sütunlarının yer değiştirilmesi gerekir."
   ]
  },
  {
   "cell_type": "code",
   "execution_count": 21,
   "id": "fbfb55b1-c2c3-4f93-84c3-41dadf4178bd",
   "metadata": {},
   "outputs": [
    {
     "name": "stdout",
     "output_type": "stream",
     "text": [
      "Orjinal hali: \n",
      "[[1 2 3]\n",
      " [4 5 6]]\n",
      "Transpozu alimis matrix: \n",
      "[[1 4]\n",
      " [2 5]\n",
      " [3 6]]\n"
     ]
    }
   ],
   "source": [
    "import numpy as np\n",
    "\n",
    "matrix = np.array([[1, 2, 3], [4, 5, 6]])\n",
    "\n",
    "print(f'Orjinal hali: \\n{matrix}') #f-string yapisinıi kullandik. .format yapisinin daha duzenli hali denebilir.\n",
    "\n",
    "T = arr1.transpose()\n",
    "\n",
    "print(f'Transpozu alimis matrix: \\n{T}')"
   ]
  },
  {
   "cell_type": "markdown",
   "id": "8c93d18f-ee1f-4f52-92a2-a99075e9e7bf",
   "metadata": {},
   "source": [
    "### BİRİM MATRİS OLUŞTURMA\n",
    "Problem açıklması: Klavyeden girilen satır ve sütun sayısına (N) göre matris oluşturan ve bu matrisi ekrana yazdıran programı yazınız."
   ]
  },
  {
   "cell_type": "code",
   "execution_count": 40,
   "id": "d713e7a6-6650-4bcf-b47c-0b4711caae1d",
   "metadata": {},
   "outputs": [
    {
     "name": "stdin",
     "output_type": "stream",
     "text": [
      "Boyut bilgisi giriniz:  5\n"
     ]
    },
    {
     "name": "stdout",
     "output_type": "stream",
     "text": [
      "1  0  0  0  0  \n",
      "0  1  0  0  0  \n",
      "0  0  1  0  0  \n",
      "0  0  0  1  0  \n",
      "0  0  0  0  1  \n"
     ]
    }
   ],
   "source": [
    "boyut = int(input(\"Boyut bilgisi giriniz: \")) \n",
    "\n",
    "for satir in range(0, boyut):\n",
    "    for sutun in range(0, boyut):\n",
    "        if (satir == sutun):\n",
    "            print(\"1 \", end=\" \")\n",
    "        else:\n",
    "            print(\"0 \", end=\" \")\n",
    "    print()      "
   ]
  },
  {
   "cell_type": "markdown",
   "id": "eb1e8544-7944-454d-baf9-ea1ecb77e459",
   "metadata": {},
   "source": [
    "### INSERTION SORT İLE DİZİDEKİ SAYILARI SIRALAMA\n",
    "Insertion sort hakkında bilgi edinmek için [buraya](https://en.wikipedia.org/wiki/Insertion_sort) bakabilirsin.\n",
    "\n",
    "Insertion sort akış diyagramı için ise [buraya](https://www.softwareideas.net/a/1604/insertion-sort-flowchart-) bakabilirsin."
   ]
  },
  {
   "cell_type": "code",
   "execution_count": 8,
   "id": "7e88270a-ff72-4911-b312-cd0689b7acaf",
   "metadata": {},
   "outputs": [
    {
     "name": "stdout",
     "output_type": "stream",
     "text": [
      "Siralanmis liste: \n",
      "[0, 8, 11, 13, 64, 99]\n"
     ]
    }
   ],
   "source": [
    "liste = [8, 11, 64, 99, 0, 13]\n",
    " \n",
    "for i in range(1, len(liste)):\n",
    "    anahtar = liste[i]\n",
    "    j = i-1\n",
    "    while j >=0 and anahtar < liste[j] :\n",
    "            liste[j+1] = liste[j]\n",
    "            j -= 1\n",
    "    liste[j+1] = anahtar\n",
    "    \n",
    "bos_liste = [] \n",
    "print(\"Siralanmis liste: \")\n",
    "for i in range(len(liste)):\n",
    "    bos_liste.append(liste[i])     \n",
    "print(bos_liste)"
   ]
  },
  {
   "cell_type": "markdown",
   "id": "6576541a-d535-4bf7-ad3e-7ed49ec80981",
   "metadata": {},
   "source": [
    "### BUBBLE SORT İLE DİZİDEKİ SAYILARI SIRALAMA\n",
    "Bubble sort hakkında bilgi edinmek için [buraya](https://en.wikipedia.org/wiki/Bubble_sort) bakabilirsin.\n",
    "\n",
    "Bubble sort akış diyagramı için ise [buraya](https://www.softwareideas.net/a/1598/bubble-sort-flowchart-) bakabilirsin."
   ]
  },
  {
   "cell_type": "code",
   "execution_count": 17,
   "id": "18b3087c-fe9b-4fee-a69f-ffe92aa1a16e",
   "metadata": {},
   "outputs": [
    {
     "name": "stdout",
     "output_type": "stream",
     "text": [
      "Siralanmis liste: \n",
      "2 3 4 5 6 7 8 "
     ]
    }
   ],
   "source": [
    "liste = [7,8,5,2,4,6,3]\n",
    "\n",
    "for i in range(0, len(liste)-1):\n",
    "    for j in range(0,len(liste)-1-i):\n",
    "        if (liste[j+1] < liste[j]):\n",
    "            temp = liste[j+1]\n",
    "            liste[j+1] = liste[j]\n",
    "            liste[j] = temp\n",
    "            \n",
    "print(\"Siralanmis liste: \")\n",
    "for i in range(0,len(liste)):\n",
    "    print(liste[i], end = \" \")"
   ]
  },
  {
   "cell_type": "markdown",
   "id": "0d3f89ac-42e4-41cf-a47d-15146490bc97",
   "metadata": {},
   "source": [
    "### QUİCK SORT İLE DİZİDEKİ SAYILARI SIRALAMA\n",
    "Quick sort hakkında bilgi edinmek için [buraya](https://en.wikipedia.org/wiki/Quick_sort) bakabilirsin.\n",
    "\n",
    "Quick sort akış diyagramı için ise [buraya](https://atechdaily.com/posts/Quick-Sort-Algorithm-and-Flowchart-with-implementation-in-Java) bakabilirsin."
   ]
  },
  {
   "cell_type": "code",
   "execution_count": 13,
   "id": "08c48451-6fb7-4d1f-883f-4b8287bfa0b2",
   "metadata": {},
   "outputs": [
    {
     "data": {
      "text/plain": [
       "[2, 3, 4, 5, 6, 7, 8, 111]"
      ]
     },
     "execution_count": 13,
     "metadata": {},
     "output_type": "execute_result"
    }
   ],
   "source": [
    "def quicksort(liste):\n",
    "    if len(liste) < 2:\n",
    "        return liste\n",
    "\n",
    "    anahtar = liste[0]\n",
    "    sol = list(filter(lambda x: x <= anahtar, liste[1:]))\n",
    "    sag = list(filter(lambda x: x > anahtar, liste[1:]))\n",
    "    \n",
    "    return quicksort(sol) + [anahtar] + quicksort(sag)\n",
    "\n",
    "liste = [7,8,5,2,4,6,3,111]\n",
    "quicksort(liste)"
   ]
  }
 ],
 "metadata": {
  "kernelspec": {
   "display_name": "Python 3 (ipykernel)",
   "language": "python",
   "name": "python3"
  },
  "language_info": {
   "codemirror_mode": {
    "name": "ipython",
    "version": 3
   },
   "file_extension": ".py",
   "mimetype": "text/x-python",
   "name": "python",
   "nbconvert_exporter": "python",
   "pygments_lexer": "ipython3",
   "version": "3.9.13"
  }
 },
 "nbformat": 4,
 "nbformat_minor": 5
}
