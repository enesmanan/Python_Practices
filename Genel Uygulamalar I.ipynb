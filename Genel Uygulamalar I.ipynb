{
 "cells": [
  {
   "cell_type": "markdown",
   "id": "319af139-89a7-432a-9e0e-3a1b9e286135",
   "metadata": {},
   "source": [
    "# ALGORİTMA ÖRNEKLERİ\n",
    "Kodlab yayinlarinin algoritma ve programlama mantıgı isimli kitabindaki algoritma ornkeklerinin python dilinde yazilmiş halleri."
   ]
  },
  {
   "cell_type": "markdown",
   "id": "d9aaa597-1153-463e-ab52-b4a18eb19f9a",
   "metadata": {},
   "source": [
    "## GENEL UYGULAMALAR"
   ]
  },
  {
   "cell_type": "markdown",
   "id": "ee5a7be3-7b3c-450d-94b7-88852972ce8b",
   "metadata": {},
   "source": [
    "### İKİ SAYİ ÜZERİNDE TEMEL DÖRT MATEMATİKSEL İŞLEM\n",
    "Problem açıklaması: Klavyeden okunan iki sayının toplamını, farkını, çarpımını ve ilk sayının ikinci sayiya olan bölümünü hesaplayan program."
   ]
  },
  {
   "cell_type": "code",
   "execution_count": 24,
   "id": "a8bb62cc-2c2c-435b-8202-c129c3b42694",
   "metadata": {},
   "outputs": [
    {
     "name": "stdout",
     "output_type": "stream",
     "text": [
      "İki sayi giriniz:\n"
     ]
    },
    {
     "name": "stdin",
     "output_type": "stream",
     "text": [
      "İlk sayiyi giriniz: 12\n",
      "İkinci sayiyi giriniz: 6\n"
     ]
    },
    {
     "name": "stdout",
     "output_type": "stream",
     "text": [
      "Toplam =  18.0 \n",
      "Fark =  6.0 \n",
      "Carpım =  72.0 \n",
      "Bolum =  2.0\n"
     ]
    }
   ],
   "source": [
    "print(\"İki sayi giriniz:\")\n",
    "a = float(input(\"İlk sayiyi giriniz:\"))\n",
    "b = float(input(\"İkinci sayiyi giriniz:\"))\n",
    "T = a+b \n",
    "F = a-b\n",
    "C = a*b\n",
    "B = a/b\n",
    "print(\"Toplam = \", T , \"\\nFark = \", F , \"\\nCarpım = \" , C , \"\\nBolum = \" , B)"
   ]
  },
  {
   "cell_type": "markdown",
   "id": "59ffa39c-927b-4f50-9e2a-53f27b150f15",
   "metadata": {},
   "source": [
    "### GİRİLEN SAYININ TEK Mİ ÇİFT Mİ OLDUĞUNU BULMA\n",
    "Problem açıklaması: Klavyeden girilen sayının tek mi çift mi olduğunu bulup, ekrana yazdıran program."
   ]
  },
  {
   "cell_type": "code",
   "execution_count": 28,
   "id": "f673edc2-e93b-4c93-a4a3-4f93c55b9734",
   "metadata": {},
   "outputs": [
    {
     "name": "stdin",
     "output_type": "stream",
     "text": [
      "Bir sayi giriniz: 98\n"
     ]
    },
    {
     "name": "stdout",
     "output_type": "stream",
     "text": [
      "Girilen sayi bir çift sayidir!\n"
     ]
    }
   ],
   "source": [
    "sayi = int(input(\"Bir sayi giriniz:\"))\n",
    "if (sayi % 2 == 0):\n",
    "    print(\"Girilen sayi bir çift sayidir!\")\n",
    "else:\n",
    "    print(\"Girilen sayi bir tek sayidir!\")"
   ]
  },
  {
   "cell_type": "markdown",
   "id": "5fadea70-2cfa-4994-81a5-2b29ee03781a",
   "metadata": {},
   "source": [
    "### KARENİN ÇEVRESİNİ VE ALANINI HESAPLAMA\n",
    "Problem açıklaması: Klavyeden bir kenarı okunan karenin çevresini ve alanını hesaplayıp ekrana yazdıran program."
   ]
  },
  {
   "cell_type": "code",
   "execution_count": 37,
   "id": "57a0735f-3481-411d-9044-1046821479db",
   "metadata": {},
   "outputs": [
    {
     "name": "stdin",
     "output_type": "stream",
     "text": [
      "Karenin bir kenarini giriniz: 12.3\n"
     ]
    },
    {
     "name": "stdout",
     "output_type": "stream",
     "text": [
      "Alan =  49.2 \n",
      "Cevre =  151.29000000000002\n"
     ]
    }
   ],
   "source": [
    "# Karenin bir kenari u ise:\n",
    "# Cevre = 4.u\n",
    "# Alan = u^2\n",
    "u = float(input(\"Karenin bir kenarini giriniz:\"))\n",
    "a = u*4\n",
    "c = u**2\n",
    "print(\"Alan = \", a , \"\\nCevre = \", c)"
   ]
  },
  {
   "cell_type": "markdown",
   "id": "7a8200ec-aece-460f-a96d-bf7acda6f132",
   "metadata": {},
   "source": [
    "### DİKDÖRTGENİN ÇEVRESİNİ VE ALANINI HESAPLAMA\n",
    "Problem açıklaması: Klavyeden iki kenarı okunan dikdörtgenin çevresini ve alanını hesaplayıp, ekrana yazdıran program."
   ]
  },
  {
   "cell_type": "code",
   "execution_count": 1,
   "id": "a643b38e-5cb5-4567-b852-14c8929c291d",
   "metadata": {},
   "outputs": [
    {
     "name": "stdin",
     "output_type": "stream",
     "text": [
      "Dikdortgenin uzunlugunu giriniz: 14\n",
      "Dikdortgenin genisligini giriniz: 7\n"
     ]
    },
    {
     "name": "stdout",
     "output_type": "stream",
     "text": [
      "Alan =  98.0 \n",
      "Cevre=  42.0\n"
     ]
    }
   ],
   "source": [
    "# Dikdortgenin birbirinden farkli iki adet uzunlugu vardir. Bunlar k1 ve k2 ise:\n",
    "# Alan = k1.k2\n",
    "# Cevre = 2(k1+k2)\n",
    "k1 = float(input(\"Dikdortgenin uzunlugunu giriniz:\"))\n",
    "k2 = float(input(\"Dikdortgenin genisligini giriniz:\"))\n",
    "a = k1*k2\n",
    "c = 2*(k1+k2)\n",
    "print(\"Alan = \", a , \"\\nCevre= \", c)"
   ]
  },
  {
   "cell_type": "markdown",
   "id": "ce7ff6c2-84b1-4e76-8671-c93683792892",
   "metadata": {},
   "source": [
    "### KÜRENİN ALANINI VE HACMİNİ HESAPLAMA\n",
    "Problem açıklaması:Klavyeden yarıçap uzunluğu girilen kürenin alanını ve hacmini hesaplayıp, ekrana yazıdran program."
   ]
  },
  {
   "cell_type": "code",
   "execution_count": 9,
   "id": "d696a1a0-71b0-48a2-b4c6-93fbf73a30dd",
   "metadata": {},
   "outputs": [
    {
     "name": "stdin",
     "output_type": "stream",
     "text": [
      "Kurenin yaricapini(r) giriniz: 12.7\n"
     ]
    },
    {
     "name": "stdout",
     "output_type": "stream",
     "text": [
      "Alan =  2025.8024 \n",
      "Hacım =  8575.896826666665\n"
     ]
    }
   ],
   "source": [
    "# Alan = 4.π.r^2\n",
    "# Hacim = 4/3.π.r^3\n",
    "pi = 3.14\n",
    "r = float(input(\"Kurenin yaricapini(r) giriniz:\"))\n",
    "a = 4*pi*r**2\n",
    "h = (4/3)*pi*r**3\n",
    "print(\"Alan = \", a , \"\\nHacım = \", h)"
   ]
  },
  {
   "cell_type": "markdown",
   "id": "c9a5b26f-e167-414b-a17e-da7726060b5c",
   "metadata": {},
   "source": [
    "### KİLOMETRE CİNİSNDEN BİR UZUNLUĞU MİLE ÇEVİRMEK\n",
    "Problem açıklaması: Klavyeden birimi kilometre olarak girilen bir uzunluğu mil birimine çevirip, ekrana yazdıran program."
   ]
  },
  {
   "cell_type": "code",
   "execution_count": 10,
   "id": "2c95ebfe-bd8e-4801-bf82-28c85c68f5a4",
   "metadata": {},
   "outputs": [
    {
     "name": "stdin",
     "output_type": "stream",
     "text": [
      "Kilometre cinsinden uzunlugu(x) giriniz: 19\n"
     ]
    },
    {
     "name": "stdout",
     "output_type": "stream",
     "text": [
      "Mil =  11.799\n"
     ]
    }
   ],
   "source": [
    "# Kilometreden mile donusum formulu: Mil=0,621.x\n",
    "x = float(input(\"Kilometre cinsinden uzunlugu(x) giriniz:\"))\n",
    "mil = (0.621)*x\n",
    "print(\"Mil = \", mil)"
   ]
  },
  {
   "cell_type": "markdown",
   "id": "fe6d141c-87a3-4ea7-9955-0d6f36cb536e",
   "metadata": {},
   "source": [
    "### BİR ÜÇGENDE PİSAGOR TEOREMİ İLE HİPOTENÜS HESAPLAMA\n",
    "Problem açıklaması: Klavyeden iki dik kenar uzunluğu girilen bir üçgenin hipotenüs uzunluğunu Pisagor teoremi ile hesaplayan program."
   ]
  },
  {
   "cell_type": "code",
   "execution_count": 16,
   "id": "08183fc3-11be-4a92-aa97-dbd12d8b3663",
   "metadata": {},
   "outputs": [
    {
     "name": "stdin",
     "output_type": "stream",
     "text": [
      "Ucgenin 1. dik kenar uzunlugunu giriniz: 3\n",
      "Ucgenin 2. dik kenar uzunlugunu giriniz: 4\n"
     ]
    },
    {
     "name": "stdout",
     "output_type": "stream",
     "text": [
      "Hipotenus =  5.0\n"
     ]
    }
   ],
   "source": [
    "# Dik kenarları A, B ve hipotenüsü C olan bir dik üçgen için Pisagor teoremi:\n",
    "# C^2 = (A^2+B^2)\n",
    "A = float(input(\"Ucgenin 1. dik kenar uzunlugunu giriniz:\"))\n",
    "B = float(input(\"Ucgenin 2. dik kenar uzunlugunu giriniz:\"))\n",
    "C = (A**2+B**2)**(1/2)\n",
    "print(\"Hipotenus = \", C)"
   ]
  },
  {
   "cell_type": "markdown",
   "id": "d51c5e1c-1acf-485d-b9b0-27a94afcdf5e",
   "metadata": {},
   "source": [
    "### TABAN VE YÜKSEKLİĞİ BİLİNEN BİR ÜÇGENİN ALANINI HESAPLAMA\n",
    "Problem açıklaması: Klavyeden taban ve yüksekliği girilen bir üçgenin alanını hesaplayan ve ekrana yazdıran program."
   ]
  },
  {
   "cell_type": "code",
   "execution_count": 1,
   "id": "9ff42c5d-481b-479f-8d4d-c1c1c399b1a7",
   "metadata": {},
   "outputs": [
    {
     "name": "stdin",
     "output_type": "stream",
     "text": [
      "Ucgenin taban uzunlugunu (x) giriniz: 5.62\n",
      "Ucgenin yukseklıgını (h) giriniz: 3.21\n"
     ]
    },
    {
     "name": "stdout",
     "output_type": "stream",
     "text": [
      "Alan =  9.0201\n"
     ]
    }
   ],
   "source": [
    "# Taban uzunlugu x ve yuksekligi h olan bir ucgen icin formul:\n",
    "# Alan = x.h/2\n",
    "x = float(input(\"Ucgenin taban uzunlugunu (x) giriniz:\"))\n",
    "h = float(input(\"Ucgenin yukseklıgını (h) giriniz:\"))\n",
    "Alan = (x*h)/2\n",
    "print(\"Alan = \", Alan)"
   ]
  },
  {
   "cell_type": "markdown",
   "id": "7312936d-ad29-428b-964d-290d257b9e46",
   "metadata": {},
   "source": [
    "### BİR ÜÇGENDE SİNÜS TEOREMİ İLE ALAN HESAPLAMA\n",
    "Problem açıklaması: Klavyeden iki kenar uzunluğu ve bu iki kenar arasındaki açısı girilen üçgenin alanını hesaplayan program."
   ]
  },
  {
   "cell_type": "code",
   "execution_count": 6,
   "id": "88cd7b13-4c20-4392-ab8e-c73c0a54ea32",
   "metadata": {},
   "outputs": [
    {
     "name": "stdin",
     "output_type": "stream",
     "text": [
      "Birinci kenar uzunlugunu (a) giriniz: 1\n",
      "İkinci kenar uzunlugunu (b) giriniz: 2\n",
      "Kenarlar arasindaki aciyi (alfa-aci) giriniz: 3\n"
     ]
    },
    {
     "name": "stdout",
     "output_type": "stream",
     "text": [
      "Alan =  0.05230944837595242\n"
     ]
    }
   ],
   "source": [
    "### Uzunluklari a, b ve acilari α (alfa) ise sinus teoremi:\n",
    "# Alan a.b.Sin(α)/2\n",
    "import math\n",
    "pi = 3.14\n",
    "a = float(input(\"Birinci kenar uzunlugunu (a) giriniz:\"))\n",
    "b = float(input(\"İkinci kenar uzunlugunu (b) giriniz:\"))\n",
    "aci = float(input(\"Kenarlar arasindaki aciyi (alfa-aci) giriniz:\"))\n",
    "Alan = a*b*math.sin(aci*pi/180)/2 # Python'da acı olcusu olarak radyan kullanilir o yuzden radyan donusumu yapildi.\n",
    "print(\"Alan = \", Alan)"
   ]
  },
  {
   "cell_type": "markdown",
   "id": "90d214df-e918-4ead-9e5a-097d8be144d9",
   "metadata": {},
   "source": [
    "### GİRİLEN İKİ SAYİYİ KARSİLASTIRMA\n",
    "Problem açıklaması: Klavyeden girilen iki sayi arasında büyüklük, küçüklük ve eşitlik durumlarını kontrol edip bu durumu ekrana yazdıran program."
   ]
  },
  {
   "cell_type": "code",
   "execution_count": 8,
   "id": "e03701fc-950b-45e1-9892-0fc17a27e42f",
   "metadata": {},
   "outputs": [
    {
     "name": "stdin",
     "output_type": "stream",
     "text": [
      "a sayisini giriniz: 1245.7\n",
      "b sayisini giriniz: 943.432872483\n"
     ]
    },
    {
     "name": "stdout",
     "output_type": "stream",
     "text": [
      "a sayisi b sayisindan buyuktur.\n"
     ]
    }
   ],
   "source": [
    "a = float(input(\"a sayisini giriniz:\"))\n",
    "b = float(input(\"b sayisini giriniz:\"))\n",
    "if a > b:\n",
    "    print(\"a sayisi b sayisindan buyuktur.\")\n",
    "elif a < b:\n",
    "    print(\"b sayisi a sayisindan buyuktur.\")\n",
    "else:\n",
    "    print(\"Iki sayida birbirine eşittir.\")"
   ]
  },
  {
   "cell_type": "markdown",
   "id": "8658383d-b6a6-4ab8-977a-ef9ae91682a8",
   "metadata": {},
   "source": [
    "### 2. DERECEDEN BİR DENKLEMİN KÖKLERİNİ HESAPLAMA\n",
    "Problem açıklması: Klavyeden üç adet katsayısı girilen ikinci dereceden denklemin köklerini hesaplayan program."
   ]
  },
  {
   "cell_type": "code",
   "execution_count": 8,
   "id": "f11c4fa4-5cd7-481c-8363-a74f68aa1427",
   "metadata": {},
   "outputs": [
    {
     "name": "stdin",
     "output_type": "stream",
     "text": [
      "Katsayi A giriniz: 9\n",
      "Katsayi B giriniz: 2\n",
      "Katsayi C giriniz: 1\n"
     ]
    },
    {
     "name": "stdout",
     "output_type": "stream",
     "text": [
      "Reel kokler yoktur.\n"
     ]
    }
   ],
   "source": [
    "# Denklem: Ax^2+Bx+C \n",
    "#Diskrimnant: D = b^2-4.a.c\n",
    "import math\n",
    "a = float(input(\"Katsayi A giriniz:\"))\n",
    "b = float(input(\"Katsayi B giriniz:\"))\n",
    "c = float(input(\"Katsayi C giriniz:\"))\n",
    "D = (b**2)-4*a*c\n",
    "if D > 0:\n",
    "    x1 = (-b+math.sqrt(D))/2*a\n",
    "    x1 = (-b-math.sqrt(D))/2*a\n",
    "    print(\"Kok 1 (x1) = \", x1)\n",
    "    print(\"Kok 2 (x2) = \", x2)\n",
    "elif D == 0:\n",
    "    x1 = (-b+math.sqrt(D))/2*a\n",
    "    print(\"Kok 1 (x1) = \", x1)\n",
    "else: \n",
    "    print(\"Reel kokler yoktur.\")"
   ]
  },
  {
   "cell_type": "markdown",
   "id": "f615d35f-1d17-4c5d-9d4f-2644bbde9137",
   "metadata": {},
   "source": [
    "### GİRİLEN SAYILARIN GEOMETRİK ORTALAMASINI HESAPLAMA\n",
    "Problem açıklaması: Klavyeden 0 değeri girilene kadar, girilen tüm sayıların geometrik ortalamalarını hesaplayan ve ekrana yazdıran program.\n",
    "\n",
    "Kitapta bu ornek do-while dongusu ile yazilmiş Python'da bu dongu olmadigi icin programi yazarken [buradaki](https://www.scaler.com/topics/python-do-while-loop/) yapidan faydalandim.  "
   ]
  },
  {
   "cell_type": "code",
   "execution_count": 41,
   "id": "e580865a-f54b-4c3e-9530-411de825132a",
   "metadata": {},
   "outputs": [
    {
     "name": "stdin",
     "output_type": "stream",
     "text": [
      "Bir sayi giriniz, cıkmak icin 0 giriniz: 5\n",
      "Bir sayi giriniz, cıkmak icin 0 giriniz: 9\n",
      "Bir sayi giriniz, cıkmak icin 0 giriniz: 18\n",
      "Bir sayi giriniz, cıkmak icin 0 giriniz: 22\n",
      "Bir sayi giriniz, cıkmak icin 0 giriniz: 0\n"
     ]
    },
    {
     "name": "stdout",
     "output_type": "stream",
     "text": [
      "Geometrik Ortalama =  11.553855320529244\n"
     ]
    }
   ],
   "source": [
    "# N adet sayinin geometrik ortalaması bu sayilarin çarpiminin, N. kokune eşittir.\n",
    "# Sayilar = x ve sayi adedi (terim sayisi) = N\n",
    "import math\n",
    "ort, n, sayi = 1.0, 0, 0\n",
    "while True:\n",
    "    sayi = int(input(\"Bir sayi giriniz, cıkmak icin 0 giriniz:\"))\n",
    "    if (sayi != 0):\n",
    "        ort *= sayi\n",
    "        n = n + 1\n",
    "        pass\n",
    "    else:\n",
    "        break  \n",
    "ort = math.pow(ort, 1.0/float(n))\n",
    "print(\"Geometrik Ortalama = \", ort)"
   ]
  },
  {
   "cell_type": "markdown",
   "id": "6cf13a45-20e2-4a82-9ebd-c85cb6a7c18d",
   "metadata": {},
   "source": [
    "### GİRİLEN SAYİLARİN HORMAONİK ORTALAMASINI HESAPLAMA\n",
    "Problem acıklması: Klavyeden 0 degeri girilene kadar, girilen tum sayilarin harmonik ortalmasini hesaplayan ve ekrana yazdiran program.\n",
    "\n",
    "Kitapta bu ornek do-while dongusu ile yazilmiş Python'da bu dongu olmadigi icin programi yazarken [buradaki](https://www.scaler.com/topics/python-do-while-loop/) yapidan faydalandim. "
   ]
  },
  {
   "cell_type": "code",
   "execution_count": 34,
   "id": "f7329e68-8739-4861-91dc-1aea7600de41",
   "metadata": {},
   "outputs": [
    {
     "name": "stdin",
     "output_type": "stream",
     "text": [
      "Bir sayi giriniz, cikmak icin 0 giriniz: 12\n",
      "Bir sayi giriniz, cikmak icin 0 giriniz: 8\n",
      "Bir sayi giriniz, cikmak icin 0 giriniz: 4\n",
      "Bir sayi giriniz, cikmak icin 0 giriniz: 6\n",
      "Bir sayi giriniz, cikmak icin 0 giriniz: 0\n"
     ]
    },
    {
     "name": "stdout",
     "output_type": "stream",
     "text": [
      "Harmonik ortalama:  6.4\n"
     ]
    }
   ],
   "source": [
    "import math\n",
    "ort, sayi, n = 0.0, 0.0, 0\n",
    "while True:\n",
    "    sayi = float(input(\"Bir sayi giriniz, cikmak icin 0 giriniz:\"))\n",
    "    if (sayi != 0):\n",
    "        ort += 1.0 / sayi\n",
    "        n = n + 1\n",
    "        pass\n",
    "    else:\n",
    "        break\n",
    "ort = float(n) / ort\n",
    "print(\"Harmonik ortalama: \", ort)"
   ]
  },
  {
   "cell_type": "markdown",
   "id": "7c3531c1-abd6-478b-97b5-80f3f19c48ff",
   "metadata": {},
   "source": [
    "### GİRİLEN SAYİLARIN BOLUMUNDEN KALANLARINI HESAPLAMA\n",
    "Problem acıklmasi: Klavyeden 0 degeri girilene kadar, ikili gruplar halinde sayilar alan ve ilk sayinin ikinci sayiya bolumunden kalanini hesaplayan program.\n",
    "\n",
    "Kitapta bu ornek do-while dongusu ile yazilmiş Python'da bu dongu olmadigi icin programi yazarken [buradaki](https://www.scaler.com/topics/python-do-while-loop/) yapidan faydalandim. "
   ]
  },
  {
   "cell_type": "code",
   "execution_count": 35,
   "id": "19cabef5-12ee-48ab-9a9a-621e6817feaa",
   "metadata": {},
   "outputs": [
    {
     "name": "stdin",
     "output_type": "stream",
     "text": [
      "Modu alinacak sayiyi (a) giriniz, cikmak icin 0 giriniz: 345\n",
      "Hangi Mod'un alinacagini (b) giriniz: 6\n"
     ]
    },
    {
     "name": "stdout",
     "output_type": "stream",
     "text": [
      "345 Mod 6 = 3\n"
     ]
    },
    {
     "name": "stdin",
     "output_type": "stream",
     "text": [
      "Modu alinacak sayiyi (a) giriniz, cikmak icin 0 giriniz: 5\n",
      "Hangi Mod'un alinacagini (b) giriniz: 3\n"
     ]
    },
    {
     "name": "stdout",
     "output_type": "stream",
     "text": [
      "5 Mod 3 = 2\n"
     ]
    },
    {
     "name": "stdin",
     "output_type": "stream",
     "text": [
      "Modu alinacak sayiyi (a) giriniz, cikmak icin 0 giriniz: 0\n"
     ]
    },
    {
     "name": "stdout",
     "output_type": "stream",
     "text": [
      "0 sayisi girildi ve programdan cikildi.\n"
     ]
    }
   ],
   "source": [
    "while True:\n",
    "    a = int(input(\"Modu alinacak sayiyi (a) giriniz, cikmak icin 0 giriniz:\"))\n",
    "    \n",
    "    if (a== 0):\n",
    "        print(\"0 sayisi girildi ve programdan cikildi.\")\n",
    "        break\n",
    "        \n",
    "    b = int(input(\"Hangi Mod'un alinacagini (b) giriniz:\"))\n",
    "    print(a, \"Mod\", b, \"=\", a%b)"
   ]
  },
  {
   "cell_type": "markdown",
   "id": "6cdc3b3e-9d30-4ae5-b578-e90292b06145",
   "metadata": {},
   "source": [
    "### İKİ SAYİ ARASINDAKİ SAYILARI BELİRLİ BİR ADIM MİKTARINA GÖRE TOPLAMA\n",
    "Problem açıklaması: Klavyeden başlangıç, bitiş ve adım miktarı sayıları alınacaktır. Başlangıç ve bitiş değerlerinin arasında kalan sayılar adım miktarına uygun şekilde toplayarak ekrana yazdıran programı yazınız."
   ]
  },
  {
   "cell_type": "code",
   "execution_count": 17,
   "id": "480c9dff-0449-4a0d-bd7b-524fa2d80af7",
   "metadata": {},
   "outputs": [
    {
     "name": "stdin",
     "output_type": "stream",
     "text": [
      "Lutfen baslangic degerini giriniz: 5\n",
      "Lutfen bitis degerini giriniz: 15\n",
      "Lutfen adim degerini giriniz: 2\n"
     ]
    },
    {
     "name": "stdout",
     "output_type": "stream",
     "text": [
      "Toplam 60\n"
     ]
    }
   ],
   "source": [
    "baslangic, bitis, adim, toplam = 0, 0, 0, 0\n",
    "baslangic = int(input(\"Lutfen baslangic degerini giriniz:\"))\n",
    "bitis = int(input(\"Lutfen bitis degerini giriniz:\"))\n",
    "adim = int(input(\"Lutfen adim degerini giriniz:\"))\n",
    "for i in range(baslangic, bitis+1, adim): # range fonksiyonu alt siniri hesaplamaya katmaz o yuzden +1 ekledik.\n",
    "     toplam += i\n",
    "print(\"Toplam\", toplam)"
   ]
  },
  {
   "cell_type": "markdown",
   "id": "0f3981c9-9131-4745-9487-c96187fe1d0d",
   "metadata": {},
   "source": [
    "### DÖNGÜ İLE BİR SAYININ BELİRLİ BİR ÜS KUVVETİNİ HESAPLAMA\n",
    "Problem açıklaması: Klavyeden alınacak taban ve üs küvvetini değerlerine göre üs alma işlemini gerçekleştirip sonucu ekrana yazdıracak program."
   ]
  },
  {
   "cell_type": "code",
   "execution_count": 21,
   "id": "e07e90cd-4999-49a2-b6b8-3edc45975691",
   "metadata": {},
   "outputs": [
    {
     "name": "stdin",
     "output_type": "stream",
     "text": [
      "Ussu alinacak sayiyi (taban) giriniz: 5\n",
      "Us kuvvetini (kuvvet) giriniz: 3\n"
     ]
    },
    {
     "name": "stdout",
     "output_type": "stream",
     "text": [
      "Sonuc: 125\n"
     ]
    }
   ],
   "source": [
    "taban, kuvvet, sonuc = 1, 1, 1\n",
    "taban = int(input(\"Ussu alinacak sayiyi (taban) giriniz:\"))\n",
    "kuvvet = int(input(\"Us kuvvetini (kuvvet) giriniz:\"))\n",
    "for i in range(kuvvet):\n",
    "    sonuc *= taban\n",
    "print(\"Sonuc:\", sonuc)"
   ]
  },
  {
   "cell_type": "markdown",
   "id": "fc8e8f42-b598-4cb8-a26e-84997428b156",
   "metadata": {},
   "source": [
    "### GİRİLEN BİR SAYININ BASAMAKLARI TOPLAMINI BULMA\n",
    "Problem açıklaması: Klavyeden alınan bir sayının basamaklarını toplayarak ekrana yazdıran programı yazınız."
   ]
  },
  {
   "cell_type": "code",
   "execution_count": 1,
   "id": "d73eb53e-24e0-41a6-b265-e0b3130f23fe",
   "metadata": {},
   "outputs": [
    {
     "name": "stdin",
     "output_type": "stream",
     "text": [
      "Bir sayi giriniz: 123456\n"
     ]
    },
    {
     "name": "stdout",
     "output_type": "stream",
     "text": [
      "Toplam 21\n"
     ]
    }
   ],
   "source": [
    "# sayi 123 ise 1+2+3 = 6\n",
    "sayi = int(input(\"Bir sayi giriniz:\"))\n",
    "toplam = 0\n",
    "while (sayi > 0):\n",
    "    basamak = sayi % 10\n",
    "    toplam = toplam + basamak\n",
    "    sayi = sayi//10\n",
    "print(\"Toplam\", toplam)"
   ]
  },
  {
   "cell_type": "markdown",
   "id": "15a3c6ad-e4c8-4236-867e-df10f9afc74d",
   "metadata": {},
   "source": [
    "### GİRİLEN BİR SAYININ ASAL SAYI OLUP OLMADIĞINI KONTROL ETME\n",
    "Problem açıklması: Klavyeden alınan bir sayının asal sayı olup olmadığını kontrol eden ve bunu ekrana yazdıran programı yazınız."
   ]
  },
  {
   "cell_type": "code",
   "execution_count": 5,
   "id": "11d88077-2d15-43d0-b308-e16176ea7e03",
   "metadata": {},
   "outputs": [
    {
     "name": "stdin",
     "output_type": "stream",
     "text": [
      "Bir sayi giriniz: 19\n"
     ]
    },
    {
     "name": "stdout",
     "output_type": "stream",
     "text": [
      "19 bir asal sayidir.\n"
     ]
    }
   ],
   "source": [
    "sayi, t = 0, 0\n",
    "sayi = int(input(\"Bir sayi giriniz:\"))\n",
    "for i in range (1, sayi+1,):\n",
    "    if (sayi % i == 0):\n",
    "        t = t + 1\n",
    "if (t == 2):\n",
    "    print(sayi,\"bir asal sayidir.\")\n",
    "else:\n",
    "    print(sayi, \"bir asal sayi degildir.\")"
   ]
  },
  {
   "cell_type": "markdown",
   "id": "e013f881-3ef3-4a51-8a51-a0a2cfb8a14e",
   "metadata": {},
   "source": [
    "### GİRİLEN BİR SAYİYİ TERSTEN YAZDIRMA\n",
    "Problem açıklması: Klavyeden girilen bir sayinin tersten okunuşunu ekrana yazdıran programı yazınız."
   ]
  },
  {
   "cell_type": "code",
   "execution_count": 5,
   "id": "023d0317-b21d-4894-ad45-2137208b37ea",
   "metadata": {},
   "outputs": [
    {
     "name": "stdin",
     "output_type": "stream",
     "text": [
      "Tersten yazdirilacak sayiyi giriniz: 5437357\n"
     ]
    },
    {
     "name": "stdout",
     "output_type": "stream",
     "text": [
      "7537345"
     ]
    }
   ],
   "source": [
    "sayi = int(input(\"Tersten yazdirilacak sayiyi giriniz:\"))\n",
    "while (sayi != 0):\n",
    "    print(sayi%10, end = \"\")\n",
    "    sayi //= 10"
   ]
  },
  {
   "cell_type": "code",
   "execution_count": 6,
   "id": "946663b9-c2d5-404c-b1fb-a07e611c66c7",
   "metadata": {},
   "outputs": [
    {
     "name": "stdin",
     "output_type": "stream",
     "text": [
      "Tersten yazdirilacak sayiyi giriniz: 3426677648\n"
     ]
    },
    {
     "name": "stdout",
     "output_type": "stream",
     "text": [
      "8467766243\n"
     ]
    }
   ],
   "source": [
    "# Kitaptaki cozumden farklı 2. bir yol\n",
    "sayi = int(input(\"Tersten yazdirilacak sayiyi giriniz:\"))\n",
    "cevir = int(str(sayi)[::-1])\n",
    "print(cevir)"
   ]
  },
  {
   "cell_type": "markdown",
   "id": "65977815-7dec-48a5-9186-e904558f972a",
   "metadata": {},
   "source": [
    "### FAKTORİYEL HESAPLAMA VE FONKSİYON HALİNE GETİRME\n",
    "Problem açıklması: Parametre olarak aldığı sayının faktoriyelini hesaplayan fonksiyon ve klavyeden alınacak değeri bu fonksiyona gönderecek programı yazınız."
   ]
  },
  {
   "cell_type": "code",
   "execution_count": 24,
   "id": "55ccb1e4-d28b-4ef4-a2cf-4e138e102156",
   "metadata": {},
   "outputs": [
    {
     "name": "stdin",
     "output_type": "stream",
     "text": [
      "Faktoriyeli alinacak sayiyi giriniz: 7\n"
     ]
    },
    {
     "name": "stdout",
     "output_type": "stream",
     "text": [
      "Sayinin faktoriyeli:  5040\n"
     ]
    }
   ],
   "source": [
    "def Faktoriyel (sayi):\n",
    "    sonuc = 1\n",
    "    for i in range(1, sayi):\n",
    "        sonuc *= i+1  \n",
    "    return sonuc\n",
    "\n",
    "sayi = int(input(\"Faktoriyeli alinacak sayiyi giriniz:\"))\n",
    "sonuc = Faktoriyel (sayi)\n",
    "print(\"Sayinin faktoriyeli: \", sonuc)"
   ]
  },
  {
   "cell_type": "markdown",
   "id": "32e3ce38-e0d0-4c7f-b792-9a7715656187",
   "metadata": {},
   "source": [
    "### PERMUTASYON HESAPLAMA\n",
    "Problem açıklaması: Klavyeden alınacak elemann sayısı ve seçim sayısına göre permütasyon hesabı yapıp, ekrana yazdıracak programı yazınız."
   ]
  },
  {
   "cell_type": "code",
   "execution_count": 2,
   "id": "b60a5a2d-ffbf-4eb7-bd8a-98f55405b845",
   "metadata": {},
   "outputs": [
    {
     "name": "stdin",
     "output_type": "stream",
     "text": [
      "Eleman sayisi (n) giriniz: 5\n",
      "Secim sayisi (r) giriniz: 4\n"
     ]
    },
    {
     "name": "stdout",
     "output_type": "stream",
     "text": [
      "5'in 4'lu permutasyonu :  120.0\n"
     ]
    }
   ],
   "source": [
    "def Faktoriyel (sayi):\n",
    "    sonuc = 1\n",
    "    for i in range(1, sayi):\n",
    "        sonuc *= i+1  \n",
    "    return sonuc\n",
    "\n",
    "n = int(input(\"Eleman sayisi (n) giriniz:\"))\n",
    "r = int(input(\"Secim sayisi (r) giriniz:\"))\n",
    "sonuc = Faktoriyel (n) / Faktoriyel (n-r)\n",
    "print(\"{0}'in {1}'lu permutasyonu : \".format(n,r), sonuc)    "
   ]
  },
  {
   "cell_type": "markdown",
   "id": "2ee2622a-767f-4cec-90db-dbfe7c62b1b5",
   "metadata": {},
   "source": [
    "### DÖNGÜ İLE FİBONACCİ SERİSİNİ LİSTELEME\n",
    "Problem açıklaması: Klavyeden alınan indis/index(n) sayısına göre Fibonacci sayi serisinin ilk n terimini ekrana yazdıran programı yazınız."
   ]
  },
  {
   "cell_type": "code",
   "execution_count": 12,
   "id": "fcd5bc86-8af3-468f-aa92-e54f7fdd8851",
   "metadata": {},
   "outputs": [
    {
     "name": "stdin",
     "output_type": "stream",
     "text": [
      "Terim sayisi (n) giriniz: 10\n"
     ]
    },
    {
     "name": "stdout",
     "output_type": "stream",
     "text": [
      "1 1 2 3 5 8 13 21 34 55 "
     ]
    }
   ],
   "source": [
    "#Fibonacci serisi; ilk iki terimi 1 olan ve sonraki tum terimleri, kendinden onceki iki terimin toplami olan sayi serisidir.\n",
    "T1, T2 = 1, 1\n",
    "n = int(input(\"Terim sayisi (n) giriniz:\"))\n",
    "print(T1, T2, end=\" \")\n",
    "for i in range(1, n-1):\n",
    "    T3 = T1 + T2\n",
    "    print(T3, end=\" \")\n",
    "    T1 = T2\n",
    "    T2 = T3"
   ]
  },
  {
   "cell_type": "markdown",
   "id": "50b2f903-fb70-45c5-a25d-c64c39d0ab42",
   "metadata": {},
   "source": [
    "### RECURSION YONTEMI ILE BIR FIBONACCI TERIMINI HESAPLAMA\n",
    "Problem aciklamasi: Klavyeden alinan terim (n) sayisinin, Fibonacci sayi serisinde sırasına göre karşılık gelen sayiyi bulup ekrana yazdıran programı yazınız."
   ]
  },
  {
   "cell_type": "code",
   "execution_count": 2,
   "id": "37a77218-3cd5-436d-9844-4eadde26b211",
   "metadata": {},
   "outputs": [
    {
     "name": "stdin",
     "output_type": "stream",
     "text": [
      "Sira sayisini (n) giriniz: 7\n"
     ]
    },
    {
     "name": "stdout",
     "output_type": "stream",
     "text": [
      "Sira sayisi:  13\n"
     ]
    }
   ],
   "source": [
    "def fib (n):\n",
    "    if (n == 2 or n == 1):\n",
    "        return 1\n",
    "    else:\n",
    "        return fib(n-1) + fib(n-2)\n",
    "    \n",
    "n = int(input(\"Sira sayisini (n) giriniz:\"))\n",
    "sonuc = fib(n)\n",
    "print(\"Sira sayisi: \", sonuc)"
   ]
  },
  {
   "cell_type": "markdown",
   "id": "4253d1e9-7df4-4c4e-92c0-7582de2d9659",
   "metadata": {},
   "source": [
    "### RECURSION SERI HESAPLAMA\n",
    "Problem aciklamasi: Klavyeden girilen n sayisi icin asagidaki seri hesaplamasini yapacak program.\n",
    "\n",
    "$(1/2)+(2/3)+(3/4)+(4/5)+...+[n/(n+1)]$"
   ]
  },
  {
   "cell_type": "code",
   "execution_count": 8,
   "id": "655b8d22-5c61-438a-aa89-22b9592409d9",
   "metadata": {},
   "outputs": [
    {
     "name": "stdin",
     "output_type": "stream",
     "text": [
      "Seri acilimi icin sayi (n) giriniz:  10\n"
     ]
    },
    {
     "name": "stdout",
     "output_type": "stream",
     "text": [
      "Sonuc:  7.980122655122655\n"
     ]
    }
   ],
   "source": [
    "def Seri (n):\n",
    "    if (n < 1):\n",
    "        return 0\n",
    "    else:\n",
    "        return (n / (n+1)) + Seri(n-1)\n",
    "    \n",
    "n = float(input(\"Seri acilimi icin sayi (n) giriniz: \"))\n",
    "sonuc = Seri(n)\n",
    "print(\"Sonuc: \", sonuc)"
   ]
  },
  {
   "cell_type": "markdown",
   "id": "cddc1b96-ba67-4b3d-9f44-97eb78ed6c3d",
   "metadata": {},
   "source": [
    "### RECURSION SERI HESAPLAMA II\n",
    "Problem aciklamasi: Klavyeden girilen n sayisi icin asagıdaki seri hesaplamasini yapacak programi yaziniz.\n",
    "\n",
    "$(1/2)+(2/5)+(3/10)+...+[n/ (n^2+1)]$"
   ]
  },
  {
   "cell_type": "code",
   "execution_count": 9,
   "id": "fab62bad-a9f0-4450-ab77-cd9832e28b25",
   "metadata": {},
   "outputs": [
    {
     "name": "stdin",
     "output_type": "stream",
     "text": [
      "Seri acilimi icin sayi (n) giriniz:  10\n"
     ]
    },
    {
     "name": "stdout",
     "output_type": "stream",
     "text": [
      "Sonuc:  2.2616068937449114\n"
     ]
    }
   ],
   "source": [
    "def Seri (n):\n",
    "    if (n < 1):\n",
    "        return 0\n",
    "    else:\n",
    "        return (n / ((n*n)+ 1)) + Seri(n-1)\n",
    "    \n",
    "n = float(input(\"Seri acilimi icin sayi (n) giriniz: \"))\n",
    "sonuc = Seri(n)\n",
    "print(\"Sonuc: \", sonuc)"
   ]
  },
  {
   "cell_type": "markdown",
   "id": "ec5aced4-dcc3-422d-802d-cae68b84c4c7",
   "metadata": {},
   "source": [
    "### RECURSION SERI HESAPLAMA III\n",
    "Problem aciklamasi: Klavyeden girilen n sayisi icin asagıdaki seri hesaplamasini yapacak programi yaziniz.\n",
    "\n",
    "$(0/3)+(3/10)+(8/29)+...+[(n^2-1) / (n^3+2)]$"
   ]
  },
  {
   "cell_type": "code",
   "execution_count": 11,
   "id": "e90ae5f4-46dc-4f29-9f29-375422757db1",
   "metadata": {},
   "outputs": [
    {
     "name": "stdin",
     "output_type": "stream",
     "text": [
      "Seri acilimi icin sayi (n) giriniz:  10\n"
     ]
    },
    {
     "name": "stdout",
     "output_type": "stream",
     "text": [
      "Sonuc:  1.6226016807710044\n"
     ]
    }
   ],
   "source": [
    "import math\n",
    "def Seri (n):\n",
    "    if (n < 1):\n",
    "        return 0\n",
    "    else:\n",
    "        return ((pow(n,2)-1) / (pow(n,3)+2)) + Seri(n-1)\n",
    "    \n",
    "n = float(input(\"Seri acilimi icin sayi (n) giriniz: \"))\n",
    "sonuc = Seri(n)\n",
    "print(\"Sonuc: \", sonuc)"
   ]
  },
  {
   "cell_type": "code",
   "execution_count": null,
   "id": "77a9f560-0fb3-4ee3-9478-283c1e77077b",
   "metadata": {},
   "outputs": [],
   "source": []
  }
 ],
 "metadata": {
  "kernelspec": {
   "display_name": "Python 3 (ipykernel)",
   "language": "python",
   "name": "python3"
  },
  "language_info": {
   "codemirror_mode": {
    "name": "ipython",
    "version": 3
   },
   "file_extension": ".py",
   "mimetype": "text/x-python",
   "name": "python",
   "nbconvert_exporter": "python",
   "pygments_lexer": "ipython3",
   "version": "3.9.7"
  }
 },
 "nbformat": 4,
 "nbformat_minor": 5
}
